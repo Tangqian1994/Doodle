{
  "nbformat": 4,
  "nbformat_minor": 0,
  "metadata": {
    "colab": {
      "name": "Untitled0.ipynb",
      "version": "0.3.2",
      "provenance": [],
      "collapsed_sections": [
        "8wPlriuXTuXs"
      ],
      "include_colab_link": true
    },
    "kernelspec": {
      "name": "python3",
      "display_name": "Python 3"
    }
  },
  "cells": [
    {
      "cell_type": "markdown",
      "metadata": {
        "id": "view-in-github",
        "colab_type": "text"
      },
      "source": [
        "<a href=\"https://colab.research.google.com/github/Tangqian1994/Doodle/blob/master/Untitled0.ipynb\" target=\"_parent\"><img src=\"https://colab.research.google.com/assets/colab-badge.svg\" alt=\"Open In Colab\"/></a>"
      ]
    },
    {
      "metadata": {
        "id": "6RipZJGgWA8s",
        "colab_type": "code",
        "outputId": "7337e0c7-8bfe-443d-f34f-1ee3e9e36ecf",
        "colab": {
          "base_uri": "https://localhost:8080/",
          "height": 102
        }
      },
      "cell_type": "code",
      "source": [
        "# 下载数据\n",
        "!curl 'https://storage.googleapis.com/kaggle-datasets/62680/121140/chinese-official-daily-news-since-2016.zip?GoogleAccessId=web-data@kaggle-161607.iam.gserviceaccount.com&Expires=1548380407&Signature=nGJBagdwTDNx9zG%2FFT%2FJxwDer5EgKePBKeBEEoYwWIT2YHGSe6uSZBybgh1WIViY5DkZruGZe72UprZDDU2Yj2XXJhT2LS%2FpNmGNHfonckMZzywUMrRcgsvfjpGCcE8EpsfHSZKFto%2FM0HZIBfmEgnhSkIgSTNMMUhCCoFG1UTEcNpgWE2MUB2ZDTawpjFbd7qxBY%2FXpgScoLSR8JpFH0XAWQn3MyTDDbs1xKAbCu6zH2tUBtzokffRI7JzCPMZ2xgZZMWkK3IxuLaiZ9BHNTV4EQSveE7Q7eeCzB5uQ%2FjYoiXGiqK6HSHV0Z5kx8AQWLMSHjFzvylV3AXJdBvYQQg%3D%3D' -H 'authority: storage.googleapis.com' -H 'pragma: no-cache' -H 'cache-control: no-cache' -H 'upgrade-insecure-requests: 1' -H 'user-agent: Mozilla/5.0 (Macintosh; Intel Mac OS X 10_14_2) AppleWebKit/537.36 (KHTML, like Gecko) Chrome/71.0.3578.98 Safari/537.36' -H 'accept: text/html,application/xhtml+xml,application/xml;q=0.9,image/webp,image/apng,*/*;q=0.8' -H 'referer: https://www.kaggle.com/' -H 'accept-encoding: gzip, deflate, br' -H 'accept-language: zh-CN,zh;q=0.9,en;q=0.8' --compressed -o data.zip\n",
        "!unzip data.zip\n",
        "!rm data.zip\n"
      ],
      "execution_count": 2,
      "outputs": [
        {
          "output_type": "stream",
          "text": [
            "  % Total    % Received % Xferd  Average Speed   Time    Time     Time  Current\n",
            "                                 Dload  Upload   Total   Spent    Left  Speed\n",
            "100 8550k  100 8550k    0     0  18.2M      0 --:--:-- --:--:-- --:--:-- 18.2M\n",
            "Archive:  data.zip\n",
            "  inflating: chinese_news.csv        \n"
          ],
          "name": "stdout"
        }
      ]
    },
    {
      "metadata": {
        "id": "-FL6A_klaDCO",
        "colab_type": "code",
        "colab": {}
      },
      "cell_type": "code",
      "source": [
        "!pip install -q nltk"
      ],
      "execution_count": 0,
      "outputs": []
    },
    {
      "metadata": {
        "id": "AhPW3ZwnaH6-",
        "colab_type": "code",
        "outputId": "11f1f30a-edf2-4f0d-e921-99ffa135a708",
        "colab": {
          "resources": {
            "http://localhost:8080/nbextensions/google.colab/files.js": {
              "data": "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",
              "ok": true,
              "headers": [
                [
                  "content-type",
                  "application/javascript"
                ]
              ],
              "status": 200,
              "status_text": ""
            }
          },
          "base_uri": "https://localhost:8080/",
          "height": 69
        }
      },
      "cell_type": "code",
      "source": [
        "#上传文件\n",
        "from google.colab import files\n",
        "upload = files.upload()"
      ],
      "execution_count": 3,
      "outputs": [
        {
          "output_type": "display_data",
          "data": {
            "text/html": [
              "\n",
              "     <input type=\"file\" id=\"files-e8ca5650-8996-414e-920e-455e8a16fd42\" name=\"files[]\" multiple disabled />\n",
              "     <output id=\"result-e8ca5650-8996-414e-920e-455e8a16fd42\">\n",
              "      Upload widget is only available when the cell has been executed in the\n",
              "      current browser session. Please rerun this cell to enable.\n",
              "      </output>\n",
              "      <script src=\"/nbextensions/google.colab/files.js\"></script> "
            ],
            "text/plain": [
              "<IPython.core.display.HTML object>"
            ]
          },
          "metadata": {
            "tags": []
          }
        },
        {
          "output_type": "stream",
          "text": [
            "Saving stopwords.txt to stopwords.txt\n"
          ],
          "name": "stdout"
        }
      ]
    },
    {
      "metadata": {
        "id": "PMT-wSIzhtSk",
        "colab_type": "code",
        "outputId": "c1e24947-dcff-47e3-cfbc-77e842bfdcd1",
        "colab": {
          "base_uri": "https://localhost:8080/",
          "height": 85
        }
      },
      "cell_type": "code",
      "source": [
        "!git clone https://github.com/Determined22/zh-NER-TF.git"
      ],
      "execution_count": 0,
      "outputs": [
        {
          "output_type": "stream",
          "text": [
            "Cloning into 'zh-NER-TF'...\n",
            "remote: Enumerating objects: 70, done.\u001b[K\n",
            "remote: Total 70 (delta 0), reused 0 (delta 0), pack-reused 70\u001b[K\n",
            "Unpacking objects: 100% (70/70), done.\n"
          ],
          "name": "stdout"
        }
      ]
    },
    {
      "metadata": {
        "id": "Wg9FYxwRYW0b",
        "colab_type": "text"
      },
      "cell_type": "markdown",
      "source": [
        "# 数据加载"
      ]
    },
    {
      "metadata": {
        "id": "jDnMOMjZWR8W",
        "colab_type": "code",
        "outputId": "45037a95-25d7-4b44-8e0f-ac7b267dc9d0",
        "colab": {
          "base_uri": "https://localhost:8080/",
          "height": 289
        }
      },
      "cell_type": "code",
      "source": [
        "import pandas as pd\n",
        "data = pd.read_csv(\"chinese_news.csv\")\n",
        "data = data.dropna()\n",
        "data.head()"
      ],
      "execution_count": 247,
      "outputs": [
        {
          "output_type": "execute_result",
          "data": {
            "text/html": [
              "<div>\n",
              "<style scoped>\n",
              "    .dataframe tbody tr th:only-of-type {\n",
              "        vertical-align: middle;\n",
              "    }\n",
              "\n",
              "    .dataframe tbody tr th {\n",
              "        vertical-align: top;\n",
              "    }\n",
              "\n",
              "    .dataframe thead th {\n",
              "        text-align: right;\n",
              "    }\n",
              "</style>\n",
              "<table border=\"1\" class=\"dataframe\">\n",
              "  <thead>\n",
              "    <tr style=\"text-align: right;\">\n",
              "      <th></th>\n",
              "      <th>date</th>\n",
              "      <th>tag</th>\n",
              "      <th>headline</th>\n",
              "      <th>content</th>\n",
              "    </tr>\n",
              "  </thead>\n",
              "  <tbody>\n",
              "    <tr>\n",
              "      <th>0</th>\n",
              "      <td>2016-01-01</td>\n",
              "      <td>详细全文</td>\n",
              "      <td>陆军领导机构火箭军战略支援部队成立大会在京举行 习近平向中国人民解放军陆军火箭军战略支援部队...</td>\n",
              "      <td>中国人民解放军陆军领导机构、中国人民解放军火箭军、中国人民解放军战略支援部队成立大会2015...</td>\n",
              "    </tr>\n",
              "    <tr>\n",
              "      <th>1</th>\n",
              "      <td>2016-01-01</td>\n",
              "      <td>详细全文</td>\n",
              "      <td>中央军委印发《关于深化国防和军队改革的意见》</td>\n",
              "      <td>经中央军委主席习近平批准，中央军委近日印发了《关于深化国防和军队改革的意见》。\\n《意见》强...</td>\n",
              "    </tr>\n",
              "    <tr>\n",
              "      <th>2</th>\n",
              "      <td>2016-01-01</td>\n",
              "      <td>详细全文</td>\n",
              "      <td>《习近平关于严明党的纪律和规矩论述摘编》出版发行</td>\n",
              "      <td>由中共中央纪律检查委员会、中共中央文献研究室编辑的《习近平关于严明党的纪律和规矩论述摘编》一...</td>\n",
              "    </tr>\n",
              "    <tr>\n",
              "      <th>3</th>\n",
              "      <td>2016-01-01</td>\n",
              "      <td>详细全文</td>\n",
              "      <td>以实际行动向党中央看齐 向高标准努力</td>\n",
              "      <td>广大党员干部正在积极学习习近平总书记在中央政治局专题民主生活会上的重要讲话。大家纷纷表示要把...</td>\n",
              "    </tr>\n",
              "    <tr>\n",
              "      <th>4</th>\n",
              "      <td>2016-01-01</td>\n",
              "      <td>详细全文</td>\n",
              "      <td>【年终特稿】关键之年 改革挺进深水区</td>\n",
              "      <td>刚刚过去的2015年，是全面深化改革的关键之年。改革集中发力在制约经济社会发展的深层次矛盾，...</td>\n",
              "    </tr>\n",
              "  </tbody>\n",
              "</table>\n",
              "</div>"
            ],
            "text/plain": [
              "         date   tag                                           headline  \\\n",
              "0  2016-01-01  详细全文  陆军领导机构火箭军战略支援部队成立大会在京举行 习近平向中国人民解放军陆军火箭军战略支援部队...   \n",
              "1  2016-01-01  详细全文                             中央军委印发《关于深化国防和军队改革的意见》   \n",
              "2  2016-01-01  详细全文                           《习近平关于严明党的纪律和规矩论述摘编》出版发行   \n",
              "3  2016-01-01  详细全文                                 以实际行动向党中央看齐 向高标准努力   \n",
              "4  2016-01-01  详细全文                                 【年终特稿】关键之年 改革挺进深水区   \n",
              "\n",
              "                                             content  \n",
              "0  中国人民解放军陆军领导机构、中国人民解放军火箭军、中国人民解放军战略支援部队成立大会2015...  \n",
              "1  经中央军委主席习近平批准，中央军委近日印发了《关于深化国防和军队改革的意见》。\\n《意见》强...  \n",
              "2  由中共中央纪律检查委员会、中共中央文献研究室编辑的《习近平关于严明党的纪律和规矩论述摘编》一...  \n",
              "3  广大党员干部正在积极学习习近平总书记在中央政治局专题民主生活会上的重要讲话。大家纷纷表示要把...  \n",
              "4  刚刚过去的2015年，是全面深化改革的关键之年。改革集中发力在制约经济社会发展的深层次矛盾，...  "
            ]
          },
          "metadata": {
            "tags": []
          },
          "execution_count": 247
        }
      ]
    },
    {
      "metadata": {
        "id": "cH_8hSZGe6bc",
        "colab_type": "code",
        "outputId": "1745d35a-a8cf-4f07-debe-f211ac29c117",
        "colab": {
          "base_uri": "https://localhost:8080/",
          "height": 54
        }
      },
      "cell_type": "code",
      "source": [
        "data['content'][564]"
      ],
      "execution_count": 0,
      "outputs": [
        {
          "output_type": "execute_result",
          "data": {
            "text/plain": [
              "'1日至2日，春节前夕，中共中央政治局常委、国务院总理李克强在固原、银川考察，代表党中央、国务院向各族人民送上新春祝福。\\n固原是革命老区、民族地区，也是集中连片的特困地区。李克强沿着蜿蜒崎岖的山路来到最贫困的半子沟村，与村民们亲切交谈，了解低保水平，看病报销比例，拉饮用水要走多少路，大家纷纷表示希望早日搬迁。李克强说，把贫困人口从自然条件恶劣的地方搬出去，是精准扶贫、拔掉穷根的重要方式，搬出去天地就宽了，可以生出好日子的“新根”。消除绝对贫困是“十三五”时期务必打赢的攻坚战，是必须补上的“短板”，要横下一条心，憋足一股劲，啃下这块硬骨头，不让贫困群众在全面小康路上掉队。\\n在固原中庄水库工地，李克强冒着严寒察看工程进展，他说，这里因缺水而贫，水库建成后可解决100多万城乡群众吃水问题，这既是民生工程也是发展工程，建设质量要经得起历史检验。这也会带动当地发展和新型城镇化，使西海固地区走在脱贫攻坚的前列。\\n李克强牵挂着鳏寡孤独等困难群众生活。他走进固原中心敬老院，询问五保老人日常起居。他还走进食堂了解伙食标准，同各族老人们边吃饺子，边话家常，并挂上大红的“福”字和“寿”字向老人们祝福。李克强说，尊老尽孝是中华民族的优良传统。老人们辛劳一生为后人创造了财富，我们希望他们健康长寿。要关爱老人，使他们老有所养、老有所乐，向社会传递更多和谐。\\n在银川纳家户清真大寺，李克强与宁夏民族宗教界上层人士围坐恳谈。他说，这座清真寺建筑体现了中华民族、中华文化多元一体特征。家和万事兴，希望继续发扬爱国爱教传统，促进民族团结、宗教和顺，实现各民族群众和谐相处、共同发展。随后，李克强来到集贸市场，与买年货的群众交谈，向摊主和街边小店了解市场情况，祝他们生意更加红火。\\n在共享装备公司，李克强走进传统铸造车间和3D打印车间，看到企业通过创新，将过去“傻大黑粗”的铸件变成更适应市场的精细灵巧新产品，今年利润将翻番，李克强说，用颠覆性新技术改造传统产业大有空间。“中国制造2025”的前途就在于“+互联网”，集众智、借外脑，既可以找到传统产业升级的最好技术方案，实现材料、工艺、人才最佳组合，还会大大提升效率和效益。要打造更开放的平台，让大中小企业、科研院所都进来，形成聚集效应和创新工场，推动传统制造浴火重生。\\n李克强还考察了宁夏智慧城市建设，并通过大数据平台向全区各族人民“云拜年”。在银川市民大厅，李克强对全市行政审批“一个窗口、一枚公章”改革予以肯定，叮嘱要在更大范围推广。他强调要以群众是否满意、企业办事是否便利、社会创造力是否得到激发为标准，切实做到简政放权到位、放管结合到位、优化服务到位。\\n李克强充分肯定宁夏近年来经济社会发展的成就。希望宁夏贯彻中央四个全面战略布局，扭住经济建设中心不放，落实新发展理念，在推动改革创新、促进新旧动能转换、加强民族团结、加快脱贫攻坚等方面走在前列。\\n杨晶、王正伟陪同考察。\\n'"
            ]
          },
          "metadata": {
            "tags": []
          },
          "execution_count": 3
        }
      ]
    },
    {
      "metadata": {
        "id": "gcoawpQWp8HH",
        "colab_type": "text"
      },
      "cell_type": "markdown",
      "source": [
        "新闻文本"
      ]
    },
    {
      "metadata": {
        "id": "ZzRMqPcIAl2d",
        "colab_type": "code",
        "outputId": "352cd922-587b-4a85-9ef3-4b7758a7532a",
        "colab": {
          "base_uri": "https://localhost:8080/",
          "height": 34
        }
      },
      "cell_type": "code",
      "source": [
        "documents = data['content']#[1:10]\n",
        "#print(documents)\n",
        "\n",
        "doc_num = len(documents)\n",
        "print(doc_num)"
      ],
      "execution_count": 5,
      "outputs": [
        {
          "output_type": "stream",
          "text": [
            "20631\n"
          ],
          "name": "stdout"
        }
      ]
    },
    {
      "metadata": {
        "id": "-fz8c2GvWa6b",
        "colab_type": "text"
      },
      "cell_type": "markdown",
      "source": [
        "# 分词\n",
        "\n",
        "\n"
      ]
    },
    {
      "metadata": {
        "id": "Himm9uMaXXBr",
        "colab_type": "code",
        "colab": {}
      },
      "cell_type": "code",
      "source": [
        "import jieba\n",
        "import jieba.analyse\n",
        "import tqdm\n",
        "\n",
        "#加载停用词\n",
        "def getStopwords():\n",
        "    stopwords = []\n",
        "    with open(\"stopwords.txt\", \"r\", encoding='utf8') as f:\n",
        "        lines = f.readlines()\n",
        "        for line in lines:\n",
        "            stopwords.append(line.strip())\n",
        "    return stopwords\n",
        "\n",
        "stopwords = getStopwords()"
      ],
      "execution_count": 0,
      "outputs": []
    },
    {
      "metadata": {
        "id": "sJNWsrpjLK3h",
        "colab_type": "code",
        "colab": {}
      },
      "cell_type": "code",
      "source": [
        "#分词\n",
        "\n",
        "import re\n",
        "import logging\n",
        "\n",
        "\n",
        "def segment():\n",
        "    file_nums = 0\n",
        "    count = 0\n",
        "    texts = []\n",
        "    news_texts = []\n",
        "    for document in documents:\n",
        "      doc_words = []\n",
        "      text = re.split('(。|！|\\!|\\.|？|\\?)',document) #分句\n",
        "      for sentence in text:\n",
        "        sentence = list(jieba.cut(sentence.strip().encode('utf-8')))\n",
        "        sentence_segment = []\n",
        "        for word in sentence:\n",
        "          if word not in stopwords:\n",
        "            sentence_segment.append(word)\n",
        "        if len(sentence_segment) != 0:\n",
        "          texts.append(sentence_segment)\n",
        "          doc_words = doc_words + sentence_segment\n",
        "        logging.info('finished ' + str(file_nums) + 'file word Segmentation')\n",
        "        file_nums += 1\n",
        "      news_texts.append(doc_words)\n",
        "    return texts,news_texts\n",
        "\n",
        "  \n",
        "word_segments,news_texts = segment()"
      ],
      "execution_count": 0,
      "outputs": []
    },
    {
      "metadata": {
        "id": "yrdzngt9RwtS",
        "colab_type": "text"
      },
      "cell_type": "markdown",
      "source": [
        "# 词频统计"
      ]
    },
    {
      "metadata": {
        "id": "8-gXUMpoR0gv",
        "colab_type": "code",
        "colab": {}
      },
      "cell_type": "code",
      "source": [
        "from collections import defaultdict\n",
        "\n",
        "frequency = defaultdict(int)\n",
        "\n",
        "#遍历分词结果 计算每个词出现的频率\n",
        "for text in word_segments:\n",
        "  for token in text:\n",
        "    frequency[token] +=1\n",
        "    \n",
        "word_segments = [[token for token in text if frequency[token] > 1] for text in word_segments] \n",
        "#print(word_segments)\n",
        "\n",
        "\n",
        "#DATA_PATH = os.path.join(ROOT_DIR, \"data\")\n",
        "\n",
        "#保存分词结果\n",
        "\n",
        "#segmented_file = os.path.join('','segmented')\n",
        "segmented_file = open('segmented', \"w\", encoding=\"utf-8\")\n",
        "for text in word_segments:\n",
        "  st = \"\"\n",
        "#  #print(text)\n",
        "  for token in text:\n",
        "    st = st + token\n",
        "    st = st + \" \"\n",
        "   #print(st)\n",
        "  segmented_file.write(st)\n",
        "  segmented_file.flush()\n",
        "    "
      ],
      "execution_count": 0,
      "outputs": []
    },
    {
      "metadata": {
        "id": "8wPlriuXTuXs",
        "colab_type": "text"
      },
      "cell_type": "markdown",
      "source": [
        "# Word Embedding"
      ]
    },
    {
      "metadata": {
        "id": "JmsB_u-0TzYF",
        "colab_type": "code",
        "outputId": "8e10ffd0-ebcf-41fc-da8c-bb197c6beec9",
        "colab": {
          "base_uri": "https://localhost:8080/",
          "height": 51
        }
      },
      "cell_type": "code",
      "source": [
        "#Wording Embedding\n",
        "from gensim import corpora,models,similarities\n",
        "from gensim.models import word2vec\n",
        "import os\n",
        "\n",
        "\n",
        "\n",
        "#print(dictionary.token2id)\n",
        "print(\"Training Word2vec model....\")\n",
        "#sentences = word2vec.Text8Corpus(segmented_file)\n",
        "model = word2vec.Word2Vec(word_segments,size=200,window=10,workers=8,sg=1,hs=1,iter=10)\n",
        "\n",
        "word2vec_model_file = os.path.join('./','word2vec.model')\n",
        "\n",
        "model.wv.save_word2vec_format(word2vec_model_file,binary=True)\n",
        "\n",
        "print(\"Word2vec Model Saved\")"
      ],
      "execution_count": 0,
      "outputs": [
        {
          "output_type": "stream",
          "text": [
            "Training Word2vec model....\n",
            "Word2vec Model Saved\n"
          ],
          "name": "stdout"
        }
      ]
    },
    {
      "metadata": {
        "id": "GueetMebi2Hi",
        "colab_type": "text"
      },
      "cell_type": "markdown",
      "source": [
        "测试模型"
      ]
    },
    {
      "metadata": {
        "id": "hjGd7LlCi6GA",
        "colab_type": "code",
        "colab": {}
      },
      "cell_type": "code",
      "source": [
        "# 测试模型\n",
        "\n",
        "from gensim.models.keyedvectors import KeyedVectors\n",
        "word_vectors = KeyedVectors.load_word2vec_format(word2vec_model_file, binary=True)\n",
        "#print(query_list)\n",
        "print(\"计算2个词汇间的 Cosine 相似度\")\n",
        "query_list = word_vectors.doesnt_match(['中国', '美国','旧金山'])\n",
        "print(word_vectors.similarity('总书记','中国'))\n",
        "print(query_list)"
      ],
      "execution_count": 0,
      "outputs": []
    },
    {
      "metadata": {
        "id": "I-z60hR-59qU",
        "colab_type": "text"
      },
      "cell_type": "markdown",
      "source": [
        "# 文本向量生成"
      ]
    },
    {
      "metadata": {
        "id": "OTUPNMD5Wo7L",
        "colab_type": "code",
        "outputId": "e780b92c-9ec9-43c4-b204-c6d896c79123",
        "colab": {
          "base_uri": "https://localhost:8080/",
          "height": 51
        }
      },
      "cell_type": "code",
      "source": [
        "#Doc2Vec 模型\n",
        "from gensim.models.doc2vec import Doc2Vec, TaggedDocument\n",
        "from gensim.test.utils import get_tmpfile\n",
        "docs = [TaggedDocument(doc, [i]) for i, doc in enumerate(news_texts)]\n",
        "\n",
        "print(\"Training Doc2vec.....\")\n",
        "doc2vec_model = Doc2Vec(docs,dm = 0, alpha=0.025, vector_size = 300, min_alpha=0.025,window=10,works=11)\n",
        "fname = get_tmpfile(\"doc2vec_model\")\n",
        "doc2vec_model.save(fname)\n",
        "print(\"Train finished\")"
      ],
      "execution_count": 9,
      "outputs": [
        {
          "output_type": "stream",
          "text": [
            "Training Doc2vec.....\n",
            "Train finished\n"
          ],
          "name": "stdout"
        }
      ]
    },
    {
      "metadata": {
        "id": "cgELcdrTedUF",
        "colab_type": "text"
      },
      "cell_type": "markdown",
      "source": [
        "模型导入"
      ]
    },
    {
      "metadata": {
        "id": "ejNVlbf1fUD5",
        "colab_type": "code",
        "colab": {}
      },
      "cell_type": "code",
      "source": [
        "import re\n",
        "def segment_doc(doc):\n",
        "  #sents = re.split('(。|！|\\!|\\.|？|\\?)',doc) #分句\n",
        "  sents = jieba.lcut(doc)\n",
        "  doc_tokens = []\n",
        "  for sentence in sents:\n",
        "    sentence = list(jieba.cut(sentence.strip().encode('utf-8')))\n",
        "    sentence_segment = []\n",
        "    for word in sentence:\n",
        "      if word not in stopwords:\n",
        "        sentence_segment.append(word)\n",
        "    if len(sentence_segment) != 0:\n",
        "      doc_tokens = doc_tokens + sentence_segment\n",
        "  return doc_tokens\n"
      ],
      "execution_count": 0,
      "outputs": []
    },
    {
      "metadata": {
        "id": "O4j2yFGTUJl2",
        "colab_type": "text"
      },
      "cell_type": "markdown",
      "source": [
        "# 可视化"
      ]
    },
    {
      "metadata": {
        "id": "lw6raHNOoJGn",
        "colab_type": "text"
      },
      "cell_type": "markdown",
      "source": [
        "词云"
      ]
    },
    {
      "metadata": {
        "id": "wKwxEkv8UU1m",
        "colab_type": "code",
        "colab": {}
      },
      "cell_type": "code",
      "source": [
        "!wget https://github.com/adobe-fonts/source-han-sans/raw/release/SubsetOTF/SourceHanSansCN.zip\n",
        "!unzip -j \"SourceHanSansCN.zip\" \"SourceHanSansCN/SourceHanSansCN-Regular.otf\" -d \".\"\n",
        "!rm SourceHanSansCN.zip"
      ],
      "execution_count": 0,
      "outputs": []
    },
    {
      "metadata": {
        "id": "sollucbaUMsN",
        "colab_type": "code",
        "colab": {}
      },
      "cell_type": "code",
      "source": [
        "%matplotlib inline\n",
        "\n",
        "def show_words_cloud(text_tokens):\n",
        "  from wordcloud import WordCloud, ImageColorGenerator\n",
        "  import matplotlib.pyplot as plt\n",
        "\n",
        "  wc = WordCloud( background_color='white',\n",
        "               width=640,\n",
        "               height=480,\n",
        "               font_path='SourceHanSansCN-Regular.otf').generate(\" \".join(text_tokens))\n",
        "\n",
        "  plt.figure(figsize=[12, 8])\n",
        "  plt.imshow(wc)\n",
        "  plt.axis('off')"
      ],
      "execution_count": 0,
      "outputs": []
    },
    {
      "metadata": {
        "id": "xrVqKTO1oKPi",
        "colab_type": "code",
        "colab": {}
      },
      "cell_type": "code",
      "source": [
        "图表"
      ],
      "execution_count": 0,
      "outputs": []
    },
    {
      "metadata": {
        "id": "3RqTgQSkoMD9",
        "colab_type": "code",
        "colab": {}
      },
      "cell_type": "code",
      "source": [
        "def table_show(name_list,num_lists):\n",
        "  if len(num_lists) != 0:\n",
        "      plt.bar(range(len(num_lists[0])), num_lists[0], label='2016',fc = 'y')\n",
        "      plt.bar(range(len(num_lists[0])), num_lists[1], bottom=num_lists, label='2017',tick_label = name_list,fc = 'r')\n",
        "      plt.bar(range(len(num_lists[0])), num_lists[2], bottom=num_lists, label='2018',tick_label = name_list,fc = 'g')\n",
        "      plt.legend()\n",
        "  else:\n",
        "      plt.bar(range(len(num_lists)), num_list, label='2016',fc = 'y')\n",
        "    plt.show()"
      ],
      "execution_count": 0,
      "outputs": []
    },
    {
      "metadata": {
        "id": "fIlfihpq_bFH",
        "colab_type": "code",
        "colab": {}
      },
      "cell_type": "code",
      "source": [
        "import matplotlib.pyplot as plt\n",
        "import seaborn as sns;\n",
        "def plot_topic(doc_topic):\n",
        "    f, ax = plt.subplots(figsize=(10, 4))\n",
        "    cmap = sns.cubehelix_palette(start=1, rot=3, gamma=0.8, as_cmap=True)\n",
        "    sns.heatmap(doc_topic, cmap=cmap, linewidths=0.05, ax=ax)\n",
        "    ax.set_title('proportion per topic in every Cluster')\n",
        "    ax.set_xlabel('topic')\n",
        "    ax.set_ylabel('Cluster')\n",
        "    plt.show()\n",
        "    f.savefig('topic_heatmap.jpg', bbox_inches='tight')\n"
      ],
      "execution_count": 0,
      "outputs": []
    },
    {
      "metadata": {
        "id": "ZDxrQ_xmq89Q",
        "colab_type": "text"
      },
      "cell_type": "markdown",
      "source": [
        "# Doc2Vec"
      ]
    },
    {
      "metadata": {
        "id": "mSNXhaMreYf_",
        "colab_type": "code",
        "colab": {}
      },
      "cell_type": "code",
      "source": [
        "doc2vec_model = Doc2Vec.load(fname)\n",
        "\n",
        "\n",
        "def News2vec():\n",
        "  news_vectors = []\n",
        "  for news_token in news_texts:\n",
        "    vector = doc2vec_model.infer_vector(news_token) \n",
        "    news_vectors.append(vector)\n",
        "  return news_vectors\n",
        "  \n",
        "news_vectors = News2vec()\n",
        "#test\n",
        "#test_text = \"中国人民解放军陆军领导机构、中国人民解放军火箭军、中国人民解放军战略支援部队成立大会2015年12月31日在八一大楼隆重举行。中共中央总书记、国家主席、中央军委主席习近平向陆军、火箭军、战略支援部队授予军旗并致训词，代表党中央和中央军委向同志们、向全军部队致以热烈祝贺，强调要坚持以党在新形势下的强军目标为引领，深入贯彻新形势下军事战略方针，全面实施改革强军战略，坚定不移走中国特色强军之路，时刻听从党和人民召唤，忠实履行党和人民赋予的神圣使命，为实现中国梦强军梦作出新的更大的贡献。\\n下午4时，成立大会开始，全场高唱国歌。仪仗礼兵护卫着鲜艳军旗，正步行进到主席台前。习近平将军旗郑重授予陆军司令员李作成、政治委员刘雷，火箭军司令员魏凤和政治委员王家胜，战略支援部队司令员高津、政治委员刘福连。陆军、火箭军、战略支援部队主要领导，军容严整、精神抖擞，向习近平敬礼，从习近平手中接过军旗。全场官兵向军旗敬礼。\\n授旗仪式后，习近平致训词。他指出：“成立陆军领导机构、火箭军、战略支援部队，是党中央和中央军委着眼实现中国梦强军梦作出的重大决策，是构建中国特色现代军事力量体系的战略举措，必将成为我军现代化建设的一个重要里程碑，载入人民军队史册。”\\n习近平强调，陆军是党最早建立和领导的武装力量，历史悠久，敢打善战，战功卓著，为党和人民建立了不朽功勋。陆军对维护国家主权、安全和发展利益具有不可替代的作用。陆军全体官兵要弘扬陆军光荣传统和优良作风，适应信息化时代陆军建设模式和运用方式的深刻变化，探索陆军发展特点和规律，按照机动作战、立体攻防的战略要求，加强顶层设计和领导管理，优化力量结构和部队编成，加快实现区域防卫型向全域作战型转变，努力建设一支强大的现代化新型陆军。\\n习近平强调，火箭军是我国战略威慑的核心力量，是我国大国地位的战略支撑，是维护国家安全的重要基石。火箭军全体官兵要把握火箭军的职能定位和使命任务，按照核常兼备、全域慑战的战略要求，增强可信可靠的核威慑和核反击能力，加强中远程精确打击力量建设，增强战略制衡能力，努力建设一支强大的现代化火箭军。\\n习近平强调，战略支援部队是维护国家安全的新型作战力量，是我军新质作战能力的重要增长点。战略支援部队全体官兵要坚持体系融合、军民融合，努力在关键领域实现跨越发展，高标准高起点推进新型作战力量加速发展、一体发展，努力建设一支强大的现代化战略支援部队。\\n习近平强调：“你们要坚持以党在新形势下的强军目标为引领，深入贯彻新形势下军事战略方针，全面实施改革强军战略，坚定不移走中国特色强军之路，时刻听从党和人民的召唤，忠诚履行党和人民赋予的神圣使命，为实现中国梦强军梦作出新的更大的贡献。”\\n刘雷、王家胜、刘福连分别代表陆军、火箭军、战略支援部队发言，一致表示，坚决贯彻习主席训词，任何时候任何情况下都坚决听从党中央、中央军委和习主席指挥，牢记职责使命，忠诚履职尽责，带领部队圆满完成各项任务。\\n成立大会上，中共中央政治局委员、中央军委副主席范长龙宣读了习近平主席签发的中央军委关于组建陆军领导机构、火箭军、战略支援部队及其领导班子成员任职命令和决定。中共中央政治局委员、中央军委副主席许其亮主持大会。\\n大会在嘹亮的军歌声中结束。之后，习近平亲切接见了陆军、火箭军、战略支援部队领导班子成员，并同大家合影留念。\\n中央军委委员常万全、房峰辉、张阳、赵克石、张又侠、吴胜利、马晓天出席大会。四总部、驻京各大单位和军委办公厅领导参加大会。\"\n",
        "#news_token = segment_doc(test_text)\n",
        "#vector = doc2vec_model.infer_vector(news_token)\n",
        "#text_tokens = segment_doc(test_text) \n",
        "#sims = doc2vec_model.docvecs.most_similar([vector], topn=10) \n",
        "#for item in range(len(sims)):\n",
        "#   print(documents[item],sims[item][1])\n",
        "\n"
      ],
      "execution_count": 0,
      "outputs": []
    },
    {
      "metadata": {
        "id": "gDIp4BYUUcvi",
        "colab_type": "code",
        "colab": {}
      },
      "cell_type": "code",
      "source": [
        "from gensim.test.utils import common_corpus, common_dictionary, get_tmpfile\n",
        "from gensim.similarities import Similarity\n",
        "from gensim import corpora,models,similarities\n",
        "wf = open('news_vec','w')\n",
        "corpora_documents = []\n",
        "for document in documents:\n",
        "  tokens = []\n",
        "  #sents = re.split('(。|！|\\!|\\.|？|\\?)',document) #分句\n",
        "  sents = jieba.lcut(document) \n",
        "  sents_segment = []\n",
        "  for word in sents:\n",
        "          if word not in stopwords:\n",
        "            sents_segment.append(word)\n",
        "  corpora_documents.append(sents_segment)\n",
        "\n",
        "dictionary = corpora.Dictionary(corpora_documents)\n",
        "corpus = [dictionary.doc2bow(text) for text in corpora_documents]\n",
        "similarity = Similarity('temp', corpus, num_features=400)\n",
        "      "
      ],
      "execution_count": 0,
      "outputs": []
    },
    {
      "metadata": {
        "id": "XMJFe-ovd7Ay",
        "colab_type": "code",
        "colab": {}
      },
      "cell_type": "code",
      "source": [
        "#test\n",
        "test_cut_raw_1 = jieba.lcut(test_data_1)\n",
        "test_corpus_1 = dictionary.doc2bow(test_cut_raw_1)\n",
        "print(test_corpus_1)\n",
        "similarity.num_best = 5\n",
        "print(similarity[test_corpus_1])"
      ],
      "execution_count": 0,
      "outputs": []
    },
    {
      "metadata": {
        "id": "EHqVkDKah4sY",
        "colab_type": "code",
        "colab": {}
      },
      "cell_type": "code",
      "source": [
        "import time\n",
        "from gensim import corpora,models,similarities\n",
        "#创建字典 单词与编号之间的映射\n",
        "dictionary = corpora.Dictionary(word_segments)\n",
        "corpus = [dictionary.doc2bow(text) for text in word_segments]"
      ],
      "execution_count": 0,
      "outputs": []
    },
    {
      "metadata": {
        "id": "IlENPCRvZeKp",
        "colab_type": "code",
        "outputId": "b55db5fc-7777-48d6-fd3c-b63fff5435c4",
        "colab": {
          "base_uri": "https://localhost:8080/",
          "height": 34
        }
      },
      "cell_type": "code",
      "source": [
        "#LDA模型\n",
        "t_start = time.time()\n",
        "lda = models.LdaModel(corpus=corpus, id2word=dictionary, num_topics=20)\n",
        "lda.save('news_lda.model')\n",
        "print('Train LDA model finished: %.3f s' % (time.time() - t_start))"
      ],
      "execution_count": 18,
      "outputs": [
        {
          "output_type": "stream",
          "text": [
            "Train LDA model finished: 54.989 s\n"
          ],
          "name": "stdout"
        }
      ]
    },
    {
      "metadata": {
        "id": "CO5Ew3yDZf_y",
        "colab_type": "code",
        "colab": {}
      },
      "cell_type": "code",
      "source": [
        "lda = models.ldamodel.LdaModel.load('news_lda.model')\n",
        "lda_topic_list=lda.print_topics(num_topics=20,num_words=20)\n",
        "for topic in lda_topic_list:\n",
        "  print(topic)"
      ],
      "execution_count": 0,
      "outputs": []
    },
    {
      "metadata": {
        "id": "476srm_v6Ci3",
        "colab_type": "code",
        "colab": {}
      },
      "cell_type": "code",
      "source": [
        "tfidf = models.TfidfModel(corpus)\n",
        "#由tf_idf 表示的文档向量\n",
        "corpus_tfidf = tfidf[corpus] "
      ],
      "execution_count": 0,
      "outputs": []
    },
    {
      "metadata": {
        "id": "as21BuqXiyX2",
        "colab_type": "code",
        "colab": {
          "base_uri": "https://localhost:8080/",
          "height": 54
        },
        "outputId": "ec88aa88-22f5-4c5c-909e-9b9aa9552f10"
      },
      "cell_type": "code",
      "source": [
        "print(corpus_tfidf[0])\n",
        "\n",
        "#corpus_word2vec = doc2vec_model[corpus]"
      ],
      "execution_count": 26,
      "outputs": [
        {
          "output_type": "stream",
          "text": [
            "[(0, 0.13552693539030047), (1, 0.14652582187347107), (2, 0.17288053733033945), (3, 0.6766812348267316), (4, 0.22721552174383475), (5, 0.19438882971632418), (6, 0.14652582187347107), (7, 0.22654270168003024), (8, 0.0833642620610824), (9, 0.15078108042743005), (10, 0.11620347903946236), (11, 0.21667341252716682), (12, 0.08242218374206976), (13, 0.09165603277139295), (14, 0.14488867582206913), (15, 0.1956967291657492), (16, 0.16103082381035502), (17, 0.2063388823686404), (18, 0.2471030293461583), (19, 0.1264366865383628)]\n"
          ],
          "name": "stdout"
        }
      ]
    },
    {
      "metadata": {
        "id": "g9pPRbeiaG4a",
        "colab_type": "code",
        "outputId": "27932b4c-02a4-449e-ff24-9e2a8a70f0f6",
        "colab": {
          "base_uri": "https://localhost:8080/",
          "height": 34
        }
      },
      "cell_type": "code",
      "source": [
        "#LSI模型 抽取主题词\n",
        "import time \n",
        "t_start = time.time()\n",
        "lsi = models.LsiModel(corpus_tfidf, id2word=dictionary, num_topics=20)\n",
        "lsi.save('news_lsi.model')\n",
        "print('Train LSI model finished: %.3f s' % (time.time() - t_start))\n"
      ],
      "execution_count": 122,
      "outputs": [
        {
          "output_type": "stream",
          "text": [
            "Train LSI model finished: 47.261 s\n"
          ],
          "name": "stdout"
        }
      ]
    },
    {
      "metadata": {
        "id": "wmrPGIH6c9gz",
        "colab_type": "code",
        "colab": {}
      },
      "cell_type": "code",
      "source": [
        "import numpy as np\n",
        "num_show_topic = 5\n",
        "num_show_topic_words = 20\n",
        "num_show_term = 8"
      ],
      "execution_count": 0,
      "outputs": []
    },
    {
      "metadata": {
        "id": "YWMv1y61bvoZ",
        "colab_type": "code",
        "colab": {
          "base_uri": "https://localhost:8080/",
          "height": 187
        },
        "outputId": "0d631354-3055-4322-8556-009e66bd98f4"
      },
      "cell_type": "code",
      "source": [
        "#获取某个文档的前n个主题\n",
        "def get_topic(doc_idx):\n",
        "  topic = np.array(corpus_lsi[i])\n",
        "  topic_distribute = np.array(topic[:, 1])\n",
        "        # print topic_distribute\n",
        "  topic_idx = topic_distribute.argsort()[:-num_show_topic-1:-1]\n",
        "  return topic_idx\n",
        "  #print( ('该文档的前%d个主题：' % (num_show_topic)), topic_idx)\n",
        "  #topic_distribute[topic_idx])\n",
        "        \n",
        "for i in range(10):\n",
        "  print(get_topic(i))"
      ],
      "execution_count": 305,
      "outputs": [
        {
          "output_type": "stream",
          "text": [
            "[ 1 15  0 10 11]\n",
            "[ 0  4  1 17  7]\n",
            "[ 1  0  2 10  6]\n",
            "[ 0  1  3 13 19]\n",
            "[ 0  4  7  1 11]\n",
            "[0 4 1 7 6]\n",
            "[ 4  1  7  0 13]\n",
            "[4 1 0 7 6]\n",
            "[ 0 17  9 14 13]\n",
            "[0 4 7 1 5]\n"
          ],
          "name": "stdout"
        }
      ]
    },
    {
      "metadata": {
        "id": "3devWo4bksXW",
        "colab_type": "code",
        "colab": {}
      },
      "cell_type": "code",
      "source": [
        "#获取某个主题的前n个主题词\n",
        "def get_topic_terms_lsi(idx):\n",
        "  term_distribute_all = lsi.show_topic(idx,num_show_topic_words)\n",
        "  term_distribute_all = pd.DataFrame(term_distribute_all)\n",
        "  sorted_words = term_distribute_all.sort_values(1,ascending=False)\n",
        "  term_distribute = sorted_words[:num_show_term]\n",
        "  #term_distribute = np.array(term_distribute)\n",
        "  return term_distribute\n",
        "\n"
      ],
      "execution_count": 0,
      "outputs": []
    },
    {
      "metadata": {
        "id": "HuFs_WEzo_tI",
        "colab_type": "code",
        "colab": {
          "base_uri": "https://localhost:8080/",
          "height": 3434
        },
        "outputId": "180cbf2f-077e-4ac3-9188-3ba120accadb"
      },
      "cell_type": "code",
      "source": [
        "\n",
        "print('-----每个主题的词分布-----')\n",
        "for topic_id in range(20):\n",
        "  print(\"topic#\",topic_id)\n",
        "  print(get_topic_terms_lsi(topic_id))"
      ],
      "execution_count": 324,
      "outputs": [
        {
          "output_type": "stream",
          "text": [
            "-----每个主题的词分布-----\n",
            "topic# 0\n",
            "     0         1\n",
            "0   发展  0.269135\n",
            "1   合作  0.249486\n",
            "2   中国  0.205782\n",
            "3  习近平  0.172518\n",
            "4    新  0.164362\n",
            "5   经济  0.129578\n",
            "6   国家  0.124949\n",
            "7   推动  0.122430\n",
            "topic# 1\n",
            "      0         1\n",
            "1     日  0.248376\n",
            "2    主席  0.193435\n",
            "3     月  0.188955\n",
            "4   习近平  0.157500\n",
            "8    总理  0.128064\n",
            "9   国务院  0.122170\n",
            "11    年  0.118732\n",
            "12   会议  0.117681\n",
            "topic# 2\n",
            "     0         1\n",
            "0   合作  0.306159\n",
            "2    日  0.186164\n",
            "5    月  0.145991\n",
            "9   总理  0.128135\n",
            "10  会见  0.127922\n",
            "13   国  0.118383\n",
            "17   两  0.114937\n",
            "19  坚持 -0.106733\n",
            "topic# 3\n",
            "      0         1\n",
            "2    增长  0.202157\n",
            "4     年  0.169190\n",
            "5     月  0.161699\n",
            "6    同比  0.155602\n",
            "7     1  0.155188\n",
            "12  百分点  0.121553\n",
            "14   亿元  0.118348\n",
            "17    5  0.106913\n",
            "topic# 4\n",
            "      0         1\n",
            "0   习近平  0.314262\n",
            "1    主席  0.249851\n",
            "5    中国  0.181237\n",
            "7    国家  0.167287\n",
            "11   总统  0.140824\n",
            "19   经济 -0.097261\n",
            "18   会议 -0.098333\n",
            "17   推进 -0.104177\n",
            "topic# 5\n",
            "      0         1\n",
            "3    工作  0.204271\n",
            "6   叙利亚  0.184190\n",
            "8    问题  0.140543\n",
            "9    组织  0.130583\n",
            "10   会议  0.129643\n",
            "15   政治  0.107259\n",
            "16   加强  0.100194\n",
            "17    号  0.099229\n",
            "topic# 6\n",
            "      0         1\n",
            "9   国务院  0.116419\n",
            "12   合作  0.112068\n",
            "13   主席  0.107190\n",
            "14  百分点  0.104939\n",
            "15   总理  0.101821\n",
            "16    月  0.101757\n",
            "18  习近平  0.094759\n",
            "19   中共  0.093172\n",
            "topic# 7\n",
            "      0         1\n",
            "0    参加  0.273221\n",
            "4   杨洁篪  0.205828\n",
            "6   百分点  0.175614\n",
            "9    会见  0.147894\n",
            "10   合作  0.143735\n",
            "13  习近平  0.131066\n",
            "14   同比  0.125923\n",
            "15    1  0.118891\n",
            "topic# 8\n",
            "       0         1\n",
            "0     中国  0.336593\n",
            "3     时代  0.201948\n",
            "5   社会主义  0.176331\n",
            "6     特色  0.168684\n",
            "7     总理  0.157140\n",
            "9      新  0.147799\n",
            "10    十九  0.147577\n",
            "11    中共  0.145513\n",
            "topic# 9\n",
            "     0         1\n",
            "0   一路  0.286504\n",
            "1   一带  0.286240\n",
            "2   中国  0.273913\n",
            "6   合作  0.186153\n",
            "7   建设  0.174778\n",
            "10  会议  0.140998\n",
            "11  国家  0.128805\n",
            "13   年  0.101299\n",
            "topic# 10\n",
            "      0         1\n",
            "0    会议  0.354614\n",
            "1    发展  0.202265\n",
            "2     年  0.172808\n",
            "3    审议  0.158966\n",
            "4     月  0.155494\n",
            "7    草案  0.150779\n",
            "8  全国人大  0.146345\n",
            "9     日  0.140748\n",
            "topic# 11\n",
            "     0         1\n",
            "0    新  0.281694\n",
            "3   改革  0.165577\n",
            "5   创新  0.147549\n",
            "6    年  0.143515\n",
            "7    月  0.142865\n",
            "8    日  0.136526\n",
            "9   时代  0.130927\n",
            "15  推进  0.109392\n",
            "topic# 12\n",
            "     0         1\n",
            "1    新  0.002313\n",
            "2    日  0.002142\n",
            "4   时代  0.001483\n",
            "5   会议  0.001472\n",
            "7    1  0.001314\n",
            "9   北京  0.001282\n",
            "10   月  0.001229\n",
            "13  合作  0.001189\n",
            "topic# 13\n",
            "       0         1\n",
            "0      年  0.332369\n",
            "15    总理  0.094791\n",
            "17  2016  0.094247\n",
            "18   国务院  0.092386\n",
            "19    关系  0.088480\n",
            "16     大 -0.094559\n",
            "14    审议 -0.098890\n",
            "13  全国人大 -0.105127\n",
            "topic# 14\n",
            "      0         1\n",
            "0   百分点  0.567188\n",
            "6     日  0.138518\n",
            "7    一带  0.117986\n",
            "8    一路  0.117185\n",
            "9     2  0.112882\n",
            "10    1  0.111629\n",
            "13   发展  0.105751\n",
            "14   中方  0.103912\n",
            "topic# 15\n",
            "      0         1\n",
            "2     年  0.202483\n",
            "3   叙利亚  0.178138\n",
            "4     月  0.167642\n",
            "6    增长  0.131992\n",
            "7     日  0.128317\n",
            "8     党  0.123832\n",
            "13   组织  0.104388\n",
            "15   同比  0.103157\n",
            "topic# 16\n",
            "     0         1\n",
            "1   中国  0.213431\n",
            "2   改革  0.203671\n",
            "4   美国  0.160133\n",
            "5   总统  0.146843\n",
            "10  问题  0.113002\n",
            "11  总理  0.108911\n",
            "15  伊朗  0.099739\n",
            "18  国家  0.095217\n",
            "topic# 17\n",
            "       0         1\n",
            "2      年  0.264636\n",
            "3    叙利亚  0.155441\n",
            "5     改革  0.141869\n",
            "8      新  0.129529\n",
            "10    时代  0.123301\n",
            "11  全国政协  0.119776\n",
            "12    中国  0.117443\n",
            "13  社会主义  0.112125\n",
            "topic# 18\n",
            "     0         1\n",
            "4    人  0.179262\n",
            "8   合作  0.151364\n",
            "9   峰会  0.136489\n",
            "10   日  0.117870\n",
            "11  加强  0.117834\n",
            "13  党内  0.115802\n",
            "14  金砖  0.115741\n",
            "15  中非  0.109194\n",
            "topic# 19\n",
            "       0         1\n",
            "1     一带  0.264212\n",
            "2     一路  0.263907\n",
            "6      人  0.149733\n",
            "10    增长  0.119568\n",
            "14    同比  0.111979\n",
            "16     中  0.105450\n",
            "18    关系  0.098005\n",
            "19  高峰论坛  0.097521\n"
          ],
          "name": "stdout"
        }
      ]
    },
    {
      "metadata": {
        "id": "twVvpC6fL8VH",
        "colab_type": "code",
        "colab": {}
      },
      "cell_type": "code",
      "source": [
        "lsi = models.lsimodel.LsiModel.load('news_lsi.model')\n",
        "topic_list=lsi.print_topics(num_topics=num_show_topic,num_words=20)\n",
        "#所有文档的主题分布 LSI\n",
        "corpus_lsi = lsi[corpus_tfidf]\n",
        "\n",
        "#LDA\n",
        "lda = models.ldamodel.LdaModel.load('news_lda.model')\n",
        "corpus_lda = lda[corpus_tfidf]\n",
        "\n",
        "idx = np.arange(doc_num)\n",
        "np.random.shuffle(idx)\n",
        "idx = idx[:10]\n",
        "for i in idx:\n",
        "        topic = np.array(corpus_lda[i])\n",
        "        topic_distribute = np.array(topic[:, 1])\n",
        "        # print topic_distribute\n",
        "        topic_idx = topic_distribute.argsort()[:-num_show_topic-1:-1]\n",
        "        print( ('第%d个文档的前%d个主题：' % (i, num_show_topic)), topic_idx)\n",
        "        print(topic_distribute[topic_idx])\n",
        "\n",
        "\n"
      ],
      "execution_count": 0,
      "outputs": []
    },
    {
      "metadata": {
        "id": "iYeCPcRmRAvR",
        "colab_type": "code",
        "colab": {
          "base_uri": "https://localhost:8080/",
          "height": 734
        },
        "outputId": "166a7206-327c-4246-ce33-65780dbea2aa"
      },
      "cell_type": "code",
      "source": [
        "print('-----每个主题的词分布-----')\n",
        "for topic_id in range(20):\n",
        "        topic_words = []\n",
        "        print('主题#%d：' % topic_id)\n",
        "        term_distribute_all = lda.get_topic_terms(topicid=topic_id)\n",
        "        print(term_distribute_all)\n",
        "        term_distribute = term_distribute_all[:num_show_term]\n",
        "        term_distribute = np.array(term_distribute)\n",
        "        term_id = term_distribute[:, 0].astype(np.int)\n",
        "        for t in term_id:\n",
        "            #print(dictionary.id2token[t])\n",
        "            topic_words.append(dictionary.id2token[t])\n",
        "        #print('概率: ', term_distribute[:, 1])\n",
        "        "
      ],
      "execution_count": 297,
      "outputs": [
        {
          "output_type": "stream",
          "text": [
            "-----每个主题的词分布-----\n",
            "主题#0：\n",
            "[(142, 0.034608267), (300, 0.021038825), (114, 0.014701704), (356, 0.014115608), (52, 0.013248604), (216, 0.012820973), (716, 0.009075471), (392, 0.009049562), (157, 0.00880877), (53, 0.008359072)]\n",
            "主题#1：\n",
            "[(2261, 0.016244994), (5914, 0.01558718), (2170, 0.015242342), (193, 0.01385728), (1324, 0.013136739), (1949, 0.011273895), (4015, 0.010575643), (2237, 0.010464713), (13133, 0.009685803), (1878, 0.009247357)]\n",
            "主题#2：\n",
            "[(2213, 0.03714957), (2219, 0.023712305), (24, 0.022957107), (1504, 0.015115059), (118, 0.013978616), (2259, 0.013741973), (619, 0.01206171), (126, 0.0118943), (47, 0.011390224), (856, 0.010938836)]\n",
            "主题#3：\n",
            "[(8, 0.049744844), (21, 0.020211121), (875, 0.0156178055), (587, 0.014806734), (1194, 0.010079775), (1337, 0.009897049), (320, 0.009865764), (13, 0.009009771), (22018, 0.0089374455), (1803, 0.008856654)]\n",
            "主题#4：\n",
            "[(1946, 0.06681335), (142, 0.031158937), (21, 0.024744509), (3139, 0.02209683), (1307, 0.02184929), (1049, 0.0202596), (1069, 0.017289478), (2324, 0.017207883), (193, 0.016688718), (156, 0.01612022)]\n",
            "主题#5：\n",
            "[(21, 0.052186456), (53, 0.048947126), (168, 0.02647454), (24, 0.024784153), (395, 0.017611142), (551, 0.015736332), (142, 0.015612603), (60, 0.015599848), (328, 0.01119017), (814, 0.0085960515)]\n",
            "主题#6：\n",
            "[(610, 0.018031243), (430, 0.015073082), (8, 0.014814585), (714, 0.014210717), (190, 0.012014633), (964, 0.011195151), (1339, 0.011161242), (1052, 0.011101031), (716, 0.009783859), (1882, 0.009417831)]\n",
            "主题#7：\n",
            "[(24, 0.058282737), (23, 0.04967636), (2165, 0.043876592), (38, 0.033309508), (12, 0.02517448), (240, 0.0209185), (2225, 0.020057473), (985, 0.014071105), (6990, 0.014015649), (49, 0.0127135655)]\n",
            "主题#8：\n",
            "[(144, 0.014306074), (3133, 0.010753429), (4480, 0.009057246), (38, 0.008893881), (236, 0.008033701), (643, 0.007893636), (404, 0.006944731), (726, 0.006790975), (885, 0.006789911), (410, 0.006656226)]\n",
            "主题#9：\n",
            "[(1158, 0.035496496), (1587, 0.020994155), (709, 0.018828245), (2889, 0.016673023), (588, 0.014190966), (3297, 0.013452211), (2106, 0.012298446), (1416, 0.009937446), (3810, 0.0094014), (3181, 0.008605637)]\n",
            "主题#10：\n",
            "[(344, 0.021026377), (2045, 0.014719267), (2078, 0.013967132), (1402, 0.012674736), (1340, 0.010400146), (775, 0.009822672), (2841, 0.009378245), (1134, 0.008728742), (1013, 0.008710866), (5049, 0.008282916)]\n",
            "主题#11：\n",
            "[(241, 0.015051697), (1664, 0.010730429), (7750, 0.010137019), (14266, 0.010014269), (193, 0.009457942), (1625, 0.009261017), (1426, 0.008994464), (242, 0.008701326), (1754, 0.008449866), (1640, 0.0081718145)]\n",
            "主题#12：\n",
            "[(586, 0.013920907), (2438, 0.0119386995), (2588, 0.011352605), (3217, 0.009454706), (1330, 0.009433497), (4817, 0.009139385), (3307, 0.008643199), (1381, 0.008512139), (502, 0.007540923), (431, 0.007414066)]\n",
            "主题#13：\n",
            "[(587, 0.017910307), (2865, 0.0141929565), (609, 0.013161072), (3122, 0.009637959), (2617, 0.008974509), (3125, 0.008545316), (1642, 0.008545241), (1809, 0.008200887), (6557, 0.007486051), (1727, 0.007290922)]\n",
            "主题#14：\n",
            "[(519, 0.025187876), (558, 0.019174058), (506, 0.015263822), (3345, 0.0140585825), (342, 0.012785267), (49, 0.012393592), (242, 0.01201566), (66, 0.011087951), (318, 0.010741623), (1950, 0.0104419775)]\n",
            "主题#15：\n",
            "[(3135, 0.026942713), (3189, 0.024499224), (404, 0.022162963), (12, 0.0204053), (267, 0.02040503), (246, 0.019182974), (25, 0.016339798), (892, 0.015685003), (278, 0.015566062), (23, 0.015265752)]\n",
            "主题#16：\n",
            "[(12, 0.054259915), (13, 0.048062894), (1884, 0.018261537), (1130, 0.017507229), (2406, 0.016321115), (714, 0.01573974), (466, 0.015262365), (8, 0.014958014), (964, 0.01418291), (491, 0.014039556)]\n",
            "主题#17：\n",
            "[(2183, 0.035253458), (2164, 0.026806528), (4920, 0.023439553), (240, 0.021800201), (2929, 0.016938806), (5523, 0.013791714), (767, 0.013335979), (2045, 0.012696849), (105, 0.0101124775), (2109, 0.009448913)]\n",
            "主题#18：\n",
            "[(410, 0.04396099), (129, 0.020028694), (41, 0.016775124), (352, 0.015595535), (629, 0.014162247), (19, 0.011785746), (360, 0.011511673), (40596, 0.0109906), (29, 0.010923335), (40, 0.009990575)]\n",
            "主题#19：\n",
            "[(2233, 0.037045702), (6442, 0.01483853), (7876, 0.013385687), (895, 0.012677771), (2528, 0.012459579), (1494, 0.010325972), (242, 0.009658249), (998, 0.009063235), (320, 0.0077577895), (9407, 0.007257403)]\n"
          ],
          "name": "stdout"
        }
      ]
    },
    {
      "metadata": {
        "id": "v8s2DH1eMMPQ",
        "colab_type": "code",
        "colab": {}
      },
      "cell_type": "code",
      "source": [
        "index = similarities.MatrixSimilarity(corpus_lsi)"
      ],
      "execution_count": 0,
      "outputs": []
    },
    {
      "metadata": {
        "id": "q-Wo1406OHM1",
        "colab_type": "code",
        "colab": {}
      },
      "cell_type": "code",
      "source": [
        "test_text = \"中央军委印发《关于深化国防和军队改革的意见》\"\n",
        "#由词index，词频 构建的文档向量\n",
        "text_tokens = segment_doc(test_text)\n",
        "print(text_tokens)\n",
        "test_vec = dictionary.doc2bow(text_tokens)\n",
        "print(test_vec)\n",
        "#计算与数据库中每条标题的相似度\n",
        "new_vec = index[test_vec]\n",
        "print(new_vec)"
      ],
      "execution_count": 0,
      "outputs": []
    },
    {
      "metadata": {
        "id": "td31aWRowkuZ",
        "colab_type": "text"
      },
      "cell_type": "markdown",
      "source": [
        "# 聚类"
      ]
    },
    {
      "metadata": {
        "id": "Ik4qbmVUwrk0",
        "colab_type": "code",
        "outputId": "f87f6d4b-e582-45e0-d4a4-6c0332c15a5d",
        "colab": {
          "base_uri": "https://localhost:8080/",
          "height": 85
        }
      },
      "cell_type": "code",
      "source": [
        "import numpy as np\n",
        "from sklearn.cluster import KMeans\n",
        "news_vecs = np.array(news_vectors)\n",
        "\n",
        "cluster_num = 20\n",
        "def cluster(news_vecs):  \n",
        "  np.set_printoptions(threshold=np.inf)\n",
        "  kmean = KMeans(n_clusters=cluster_num)\n",
        "  print(\"kmeans\",kmean.fit(news_vecs))\n",
        "  #print(kmean.cluster_centers_)\n",
        "  #print(len(kmean.labels_))\n",
        "  return kmean.labels_,kmean.cluster_centers_\n",
        "\n",
        "  #print(kmean.inertia_)  \n",
        "\t#pred = kmean.predict(news_vec)\n",
        "\n",
        "\t#for i in range(len(pred)):\n",
        "\n",
        "\t#print(\"%d+%d\" % (count1, count2))\n",
        "  \n",
        "start_time = time.time()\n",
        "labels,centers = cluster(news_vecs)\n",
        "print('Cluster finished: %.3f s' % (time.time() - t_start))"
      ],
      "execution_count": 311,
      "outputs": [
        {
          "output_type": "stream",
          "text": [
            "kmeans KMeans(algorithm='auto', copy_x=True, init='k-means++', max_iter=300,\n",
            "    n_clusters=20, n_init=10, n_jobs=None, precompute_distances='auto',\n",
            "    random_state=None, tol=0.0001, verbose=0)\n",
            "Cluster finished: 20274.018 s\n"
          ],
          "name": "stdout"
        }
      ]
    },
    {
      "metadata": {
        "id": "hNMHoSPOyFSc",
        "colab_type": "text"
      },
      "cell_type": "markdown",
      "source": [
        "聚类结果存储"
      ]
    },
    {
      "metadata": {
        "id": "pRuRTAYGyJv4",
        "colab_type": "code",
        "outputId": "1e72f8d3-fc30-4886-d824-7099efd6513e",
        "colab": {
          "base_uri": "https://localhost:8080/",
          "height": 71
        }
      },
      "cell_type": "code",
      "source": [
        "\n",
        "fo = open(\"cluster.txt\", \"a+\",encoding=\"utf8\")\n",
        "print(len(labels),len(documents))\n",
        "null_data = [30, 563, 576, 578, 590, 641, 671, 709, 875, 878, 885, 944, 1181, 1396, 1397, 1585, 1689, 1692, 1694, 1695, 1696, 1697, 1698, 1699, 1700, 2079, 2460, 2669, 2833, 3163, 3227, 3238, 3290, 3355, 3568, 3569, 3570, 3571, 3572, 4150, 4658, 4787, 4930, 5467, 5468, 5469, 5561, 5855, 6147, 6877, 7410, 7612, 8841, 10039, 10321, 10328, 10919, 11057, 11252, 12880, 12920, 12973, 12974, 12980, 13106, 13107, 13192, 13196, 13237, 13278, 13279, 13280, 13281, 13283, 13284, 13285, 13287, 13288, 13289, 13304, 13305, 13309, 13311, 13313, 13315, 13317, 13319, 13321, 13324, 13325, 13334, 13613, 13705, 14574, 14758, 14760, 14959, 16270, 17251, 17484, 17542, 17551, 18105, 19952, 20141, 20283]\n",
        "for i in range(len(labels)):\n",
        "  #print(i)\n",
        "  #print(labels[i],' ',len(documents),\"\\n\")\n",
        "  if i not in null_data:\n",
        "    try:\n",
        "      fo.write(str(float(labels[i]))+\" \"+documents[i]+\"\\n\")\n",
        "    except:\n",
        "      null_data.append(i)\n",
        "fo.close()\n",
        "print(null_data)"
      ],
      "execution_count": 312,
      "outputs": [
        {
          "output_type": "stream",
          "text": [
            "20631 20631\n",
            "[30, 563, 576, 578, 590, 641, 671, 709, 875, 878, 885, 944, 1181, 1396, 1397, 1585, 1689, 1692, 1694, 1695, 1696, 1697, 1698, 1699, 1700, 2079, 2460, 2669, 2833, 3163, 3227, 3238, 3290, 3355, 3568, 3569, 3570, 3571, 3572, 4150, 4658, 4787, 4930, 5467, 5468, 5469, 5561, 5855, 6147, 6877, 7410, 7612, 8841, 10039, 10321, 10328, 10919, 11057, 11252, 12880, 12920, 12973, 12974, 12980, 13106, 13107, 13192, 13196, 13237, 13278, 13279, 13280, 13281, 13283, 13284, 13285, 13287, 13288, 13289, 13304, 13305, 13309, 13311, 13313, 13315, 13317, 13319, 13321, 13324, 13325, 13334, 13613, 13705, 14574, 14758, 14760, 14959, 16270, 17251, 17484, 17542, 17551, 18105, 19952, 20141, 20283]\n"
          ],
          "name": "stdout"
        }
      ]
    },
    {
      "metadata": {
        "id": "wua9L6ML6ZWW",
        "colab_type": "text"
      },
      "cell_type": "markdown",
      "source": [
        "按聚类结果分割数据集"
      ]
    },
    {
      "metadata": {
        "id": "S5qCzYRrFsPv",
        "colab_type": "code",
        "colab": {}
      },
      "cell_type": "code",
      "source": [
        "cluster_res = pd.DataFrame(labels, columns=['label'])\n",
        "cluster_res = pd.concat([cluster_res, pd.DataFrame(documents)], axis=1)"
      ],
      "execution_count": 0,
      "outputs": []
    },
    {
      "metadata": {
        "id": "7D1eU3QwF1nQ",
        "colab_type": "code",
        "outputId": "70c93e86-4c28-46a2-8f8c-7596efdd92ba",
        "colab": {
          "base_uri": "https://localhost:8080/",
          "height": 357
        }
      },
      "cell_type": "code",
      "source": [
        "cluster_res = cluster_res.sort_values('label')\n",
        "\n",
        "for i in range(20):\n",
        "  print(len(cluster_res[cluster_res['label']==i]))"
      ],
      "execution_count": 316,
      "outputs": [
        {
          "output_type": "stream",
          "text": [
            "654\n",
            "1106\n",
            "1140\n",
            "966\n",
            "846\n",
            "1717\n",
            "347\n",
            "492\n",
            "951\n",
            "978\n",
            "1762\n",
            "1027\n",
            "471\n",
            "939\n",
            "1225\n",
            "676\n",
            "1289\n",
            "1612\n",
            "1074\n",
            "1359\n"
          ],
          "name": "stdout"
        }
      ]
    },
    {
      "metadata": {
        "id": "HvUG8aEDrwen",
        "colab_type": "code",
        "colab": {
          "base_uri": "https://localhost:8080/",
          "height": 34
        },
        "outputId": "ee96d04e-3260-4473-d4ad-71d07c25e17d"
      },
      "cell_type": "code",
      "source": [
        "len(labels)"
      ],
      "execution_count": 315,
      "outputs": [
        {
          "output_type": "execute_result",
          "data": {
            "text/plain": [
              "20631"
            ]
          },
          "metadata": {
            "tags": []
          },
          "execution_count": 315
        }
      ]
    },
    {
      "metadata": {
        "id": "LrX_sD7IIbKM",
        "colab_type": "code",
        "colab": {}
      },
      "cell_type": "code",
      "source": [
        "from google.colab import files\n",
        "for label in range(cluster_num):\n",
        "  #print(\"Cluster#\",label)\n",
        "  cluster_segment = []\n",
        "  cluster_tmp = cluster_res[cluster_res['label']==label]\n",
        "  filename = \"cluster_\"+str(label)\n",
        "  cluster_tmp.to_csv(filename,header=True)\n",
        "  #dowload= files.download(filename)\n",
        "  #docs = cluster_tmp['content']\n",
        "  #show_keywords_graph(docs)\n",
        "  "
      ],
      "execution_count": 0,
      "outputs": []
    },
    {
      "metadata": {
        "id": "EyKxEr5T0yXj",
        "colab_type": "code",
        "colab": {
          "base_uri": "https://localhost:8080/",
          "height": 54
        },
        "outputId": "9da74bab-8f67-4935-8d9c-9244ed7e7a09"
      },
      "cell_type": "code",
      "source": [
        "#获取cluster中文档的index\n",
        "label2index = []\n",
        "for label in range(cluster_num):\n",
        "  fname = \"cluster_\"+str(label)\n",
        "  data = pd.read_csv(fname)\n",
        "  #index_list = data['0']\n",
        "  index_list = data['Unnamed: 0'].tolist()\n",
        "  label2index.append(index_list)\n",
        "print(label2index)"
      ],
      "execution_count": 232,
      "outputs": [
        {
          "output_type": "stream",
          "text": [
            "[[8309, 19102, 12272, 12271, 4510, 12270, 12269, 377, 4485, 12234, 12213, 4970, 19159, 4475, 12273, 17936, 4474, 12165, 4462, 8014, 12155, 12149, 12147, 12142, 12136, 4456, 12132, 12130, 12116, 12185, 19093, 12297, 12308, 4545, 7803, 3372, 4544, 4543, 4542, 17970, 19003, 19005, 12358, 19017, 19021, 19027, 1309, 4529, 12334, 4517, 19041, 19042, 19044, 19054, 4516, 7869, 19063, 19064, 19072, 4515, 12319, 19079, 12110, 435, 12107, 2774, 17798, 11748, 11724, 8369, 15161, 15173, 17759, 8416, 15184, 19515, 19516, 6468, 15207, 1442, 19529, 6455, 1993, 15267, 17711, 11313, 11297, 19555, 11276, 8544, 2013, 2014, 11251, 9561, 15213, 11765, 15152, 15139, 4429, 12098, 12097, 17912, 12095, 12086, 12073, 8104, 12068, 12057, 12036, 12021, 19314, 4405, 12003, 11997, 4382, 11983, 8187, 11953, 8204, 11925, 11904, 8236, 315, 5004, 17843, 11816, 19427, 8070, 17709, 17996, 4555, 7209, 7210, 14087, 4838, 4841, 7212, 1406, 18485, 6832, 14141, 13469, 7225, 13463, 18456, 14156, 18510, 14158, 14162, 4865, 4694, 13384, 18528, 13382, 4866, 14182, 3455, 14183, 1564, 13453, 13535, 4709, 14084, 18261, 14003, 13856, 14013, 7055, 14016, 7081, 18353, 13779, 14054, 7155, 3412, 13693, 1419, 18383, 3437, 13665, 13664, 14066, 7191, 4729, 2993, 7193, 13574, 7194, 13555, 13554, 13551, 14083, 18116, 4553, 3456, 14186, 18046, 4608, 4607, 18045, 1656, 18039, 18038, 18032, 4591, 18758, 18031, 12629, 18762, 18056, 18772, 4589, 18018, 4915, 18008, 4587, 12509, 4581, 4570, 18822, 18836, 4916, 4922, 4568, 4590, 3483, 18696, 18695, 3459, 14207, 1570, 13185, 13171, 4675, 4666, 18591, 4665, 13156, 18601, 1591, 1592, 1595, 18618, 6762, 14251, 4639, 18087, 4635, 18073, 18072, 4890, 18066, 7625, 4618, 4616, 12932, 14289, 14185, 5078, 13970, 10359, 17458, 6039, 20009, 6023, 6004, 1047, 10457, 20402, 20029, 5323, 17432, 16720, 6002, 6000, 5981, 16348, 16719, 3807, 2347, 9900, 9901, 16362, 10386, 10475, 16735, 16164, 16736, 19952, 9255, 15987, 2607, 3180, 16027, 16739, 5271, 16057, 17127, 10533, 20084, 6078, 17143, 19972, 19973, 3791, 9844, 9848, 2181, 19983, 19988, 19993, 16133, 16737, 20379, 16718, 10360, 5368, 20179, 5369, 10243, 3195, 16403, 16412, 3975, 20212, 5912, 20224, 10250, 20227, 20235, 5794, 20236, 5796, 3188, 3960, 5895, 3849, 16582, 3273, 9033, 5911, 19951, 16671, 16679, 16713, 9917, 9925, 16711, 824, 9145, 10353, 10339, 9935, 4015, 5962, 3825, 3677, 10331, 16373, 20133, 16702, 10314, 5954, 5351, 16700, 20152, 10278, 20153, 10333, 20469, 3771, 16740, 17609, 19695, 15679, 227, 226, 19701, 9628, 19702, 9641, 15945, 17105, 19718, 16809, 10937, 16772, 9724, 20553, 2093, 10920, 9410, 10901, 16830, 19682, 11219, 11212, 11209, 9577, 20618, 6270, 16999, 3742, 19667, 8565, 11133, 6269, 15542, 8573, 19679, 9531, 6194, 8574, 19681, 17615, 9736, 10957, 941, 19860, 20500, 2636, 19873, 9788, 3696, 9737, 19876, 1122, 19878, 19883, 9789, 10696, 19908, 9803, 6138, 2617, 20485, 19920, 19921, 10620, 9755, 19852, 19875, 10795, 10890, 10871, 9747, 9752, 3767, 9753, 10859, 28, 19805, 10821, 17299, 19836, 19843, 10811, 10820], [6901, 6905, 16752, 16625, 6924, 6942, 1437, 6858, 3187, 6760, 16599, 14177, 14080, 6959, 5729, 1394, 5575, 16689, 5611, 16943, 14052, 973, 1385, 6881, 2988, 6877, 14241, 14049, 3222, 2987, 5790, 16850, 16983, 16753, 16654, 16774, 15387, 16538, 6514, 6539, 15061, 15689, 15690, 15053, 6177, 15052, 1285, 6559, 6585, 15693, 1289, 6588, 15711, 15714, 15731, 15771, 15808, 6589, 15809, 15834, 1108, 3060, 6136, 1147, 15113, 6367, 6434, 6436, 15405, 15425, 15269, 6366, 3096, 1181, 6450, 15245, 15225, 15596, 15599, 1249, 6482, 15179, 15176, 6187, 1260, 3112, 1261, 6483, 15110, 15006, 6135, 6591, 1344, 6678, 14434, 16378, 14433, 16395, 6679, 14406, 6698, 16400, 14368, 6704, 16402, 14347, 6725, 6728, 1371, 16451, 1372, 6756, 16469, 5889, 5862, 1343, 14486, 14539, 1214, 3131, 14979, 14974, 14957, 16100, 16124, 6607, 14952, 6608, 16144, 16188, 6758, 14922, 16330, 3038, 6626, 14692, 1321, 16354, 6653, 14660, 1324, 14621, 6657, 6625, 1227, 12502, 13926, 8899, 10589, 8875, 10611, 2158, 10634, 8906, 10636, 2621, 8812, 10714, 10717, 8788, 10789, 10656, 10792, 10552, 10530, 8955, 8950, 8945, 8944, 10458, 8943, 10532, 10460, 10466, 2590, 10485, 10488, 8924, 10529, 10463, 8956, 8743, 10906, 11204, 2024, 11223, 11224, 8548, 11245, 11203, 11247, 11272, 8543, 2691, 11368, 11392, 11437, 8547, 8715, 11188, 11164, 10923, 8712, 8684, 10960, 10976, 2658, 11185, 8594, 11022, 11064, 11084, 8569, 11110, 11160, 8593, 8972, 8973, 10395, 9232, 9839, 9857, 9208, 2532, 9182, 9233, 9906, 9929, 9934, 9951, 9117, 9970, 9097, 9179, 2549, 9254, 2512, 9557, 9555, 9554, 9469, 2471, 9453, 9256, 2473, 9395, 9374, 2491, 9373, 9745, 9280, 9431, 10020, 10021, 10022, 2261, 10227, 9000, 10245, 2571, 8998, 10225, 10273, 10296, 10297, 10316, 10338, 10356, 8974, 10294, 10224, 10202, 9024, 10025, 10027, 10064, 10067, 10088, 2553, 10105, 9048, 10122, 10130, 10150, 10176, 9029, 9028, 9025, 8492, 11479, 8487, 8463, 7592, 13063, 13064, 7508, 13087, 7505, 13004, 1588, 1568, 1567, 13314, 13317, 7415, 2904, 7465, 7405, 7620, 12915, 12627, 7678, 2864, 7664, 2866, 12709, 7621, 12794, 12812, 12837, 12854, 12872, 12873, 12877, 12799, 13365, 13386, 7249, 7166, 2953, 13754, 13803, 1470, 7058, 7170, 13830, 13881, 13884, 1454, 1453, 7017, 13923, 13854, 2948, 2947, 13656, 7245, 13449, 1532, 13470, 13472, 7222, 13498, 1519, 1518, 13500, 7208, 1511, 13586, 13609, 7190, 7680, 6982, 7684, 7719, 2745, 8260, 11881, 11882, 8238, 11906, 11833, 11964, 11970, 11984, 12001, 3729, 8088, 8058, 11969, 8005, 8294, 11788, 11530, 11552, 8461, 8419, 11619, 11642, 8295, 11643, 8396, 11708, 11743, 11762, 11766, 11786, 1939, 12186, 12189, 12190, 12438, 7802, 12463, 7790, 1706, 7788, 12413, 2842, 7753, 17018, 2846, 7732, 12550, 7731, 2843, 7825, 1727, 1729, 12238, 7917, 1765, 12288, 7873, 12291, 1748, 1747, 1745, 12360, 12362, 7851, 7848, 12387, 12388, 12575, 3244, 2455, 18321, 3367, 184, 19001, 3366, 390, 185, 187, 5303, 17952, 3615, 3614, 19136, 373, 5280, 4980, 4999, 4479, 19160, 3533, 4463, 19201, 19202, 197, 3613, 200, 18968, 19205, 3512, 18927, 4021, 3491, 17044, 20012, 17364, 4040, 5364, 153, 18793, 4205, 18811, 18835, 826, 825, 3369, 4052, 4054, 17409, 4076, 3509, 17427, 17428, 18925, 17446, 4957, 17450, 20067, 3347, 19224, 4169, 4170, 19408, 17584, 3571, 19451, 3572, 3328, 19491, 3575, 3311, 19499, 5223, 5221, 4270, 17658, 4188, 4189, 17634, 19531, 19533, 257, 275, 4202, 4204, 19393, 4099, 5242, 19384, 17812, 19227, 19229, 3344, 17546, 4423, 19270, 4116, 5058, 17561, 17729, 19326, 794, 17564, 5075, 4133, 220, 753, 19365, 4149, 19366, 19367, 791, 4151, 4323, 237, 17344, 4208, 17157, 3751, 17191, 18435, 523, 3678, 20360, 18258, 862, 4687, 3265, 18391, 4883, 20325, 4885, 20307, 26, 20306, 20557, 18093, 61, 5530, 3680, 4860, 18480, 3768, 35, 36, 38, 4835, 18214, 18215, 18197, 4832, 5513, 3786, 5509, 18461, 3451, 17126, 3801, 18526, 133, 3820, 3750, 17250, 18067, 492, 5454, 18283, 20578, 115, 17294, 3747, 117, 18714, 685, 892, 3731, 3639, 3730, 3638, 843, 3637, 4020, 17046, 673, 599, 3765, 3995, 20559, 18372, 3918, 660, 3386, 3659, 3468, 4637, 4910, 18368, 3977, 3432, 671, 5533], [1422, 8178, 17668, 15369, 1474, 1218, 13859, 13862, 15389, 18442, 1190, 18424, 2748, 19542, 1193, 1223, 7005, 4816, 18379, 18465, 8267, 12737, 6443, 13153, 13119, 12396, 13118, 13101, 12484, 7785, 14348, 14349, 14350, 17983, 6661, 6662, 14471, 14520, 18764, 14474, 12659, 12688, 12689, 6665, 14269, 8173, 3517, 6600, 2929, 6453, 8158, 8122, 13480, 18491, 5048, 543, 13457, 6814, 7231, 4454, 18530, 5016, 2908, 18531, 3355, 12198, 13237, 13220, 4965, 17956, 1692, 18761, 11260, 10773, 1082, 16001, 10139, 15983, 15979, 1094, 10030, 8719, 5262, 15937, 9960, 19797, 9957, 9956, 5742, 16712, 9886, 5251, 20406, 6167, 8605, 9847, 10761, 1079, 10760, 10758, 2189, 10493, 10516, 5919, 6001, 10574, 19945, 1053, 10643, 10657, 8977, 8578, 16245, 6042, 10662, 16219, 6043, 10721, 1071, 8979, 5829, 10740, 10741, 10742, 8978, 20423, 5950, 5614, 2497, 2484, 250, 17095, 5652, 1141, 5694, 5226, 19665, 9609, 1137, 16911, 5227, 2523, 2522, 17029, 5623, 20438, 11118, 9640], [4002, 12893, 2944, 4001, 1618, 18416, 4742, 12934, 12911, 10259, 18394, 18665, 18373, 9385, 18643, 12935, 7623, 18506, 4610, 18791, 20008, 18324, 20597, 4028, 18759, 4752, 10419, 4027, 10397, 3635, 20577, 18734, 18344, 10375, 20576, 12777, 8975, 2433, 13740, 13723, 20573, 13763, 10237, 3986, 13189, 2199, 7432, 9281, 7417, 18568, 3821, 18550, 20363, 9259, 18527, 20466, 3802, 18484, 18519, 18518, 3788, 2925, 4698, 3761, 9739, 4678, 13159, 9655, 3985, 18438, 501, 3973, 9345, 4708, 3961, 10218, 4719, 4650, 10190, 3943, 18463, 3876, 20, 20526, 7466, 20303, 10063, 9002, 20324, 4082, 18807, 2038, 1941, 11655, 2039, 4288, 4290, 19481, 19469, 4308, 4309, 19418, 8564, 4281, 11086, 4163, 11055, 4158, 8583, 11918, 11923, 19368, 19691, 4138, 19710, 4137, 19355, 19672, 11635, 4177, 11597, 19580, 4214, 19560, 4226, 4234, 4235, 11240, 19605, 1987, 19544, 4198, 11221, 19623, 11482, 11508, 19647, 11196, 11524, 11525, 19523, 11547, 11548, 4182, 11566, 11175, 4272, 19504, 19736, 4043, 4121, 11971, 7954, 7932, 19864, 4501, 12252, 7918, 8807, 7908, 19092, 8830, 12292, 407, 7967, 7861, 3513, 4081, 170, 18906, 2173, 4061, 4047, 18839, 8920, 18814, 2847, 8925, 11261, 12205, 7984, 1793, 4120, 19337, 8138, 19769, 12015, 12039, 2101, 12058, 12077, 19809, 12103, 19245, 19243, 351, 4102, 12123, 4101, 19845, 19221, 8746, 10784, 8026, 12145, 12159, 12178, 12184, 7990, 4358, 4256, 3246, 15593, 15331, 5469, 15330, 15295, 15813, 15482, 15484, 17251, 18180, 15509, 16978, 18198, 1413, 15779, 1126, 6304, 14372, 18217, 14253, 4819, 18239, 15767, 15516, 3077, 4805, 16727, 18314, 1202, 15415, 15946, 6131, 1090, 14232, 15401, 699, 15876, 1106, 16058, 3013, 971, 4950, 5608, 15829, 1215, 16226, 16228, 18138, 15816, 15363, 16266, 6019, 15517, 17144, 17601, 15543, 4788, 15686, 14422, 1340, 18286, 1149, 15671, 15743, 16537, 15137, 13946, 14504, 15623, 4772, 15658, 17887, 16573, 6265, 15640, 6944, 17285, 14481, 17263, 13906, 15607, 5732, 18309, 17741, 17753, 17756, 5706, 15723, 15570, 15700, 4795, 17266, 18260, 3243], [15565, 11653, 15451, 15454, 20350, 19502, 11623, 11604, 1977, 9907, 6318, 11466, 11513, 20375, 11461, 15521, 11446, 8497, 8473, 11422, 11421, 11543, 5466, 9914, 8507, 15475, 9912, 11583, 8427, 15545, 11602, 3321, 3726, 8401, 15157, 1257, 15164, 743, 8097, 19291, 946, 19295, 19296, 4409, 19301, 12031, 4408, 15212, 5061, 8038, 17717, 737, 1824, 15075, 12169, 17874, 364, 8008, 15079, 19186, 361, 39, 15098, 15099, 15100, 15101, 9831, 17800, 1825, 17129, 2270, 15234, 11775, 2738, 11774, 11771, 9890, 15392, 8325, 15395, 19477, 9895, 8356, 8363, 19479, 5164, 8389, 15588, 11800, 19415, 11863, 15237, 4387, 17716, 9866, 15257, 755, 2356, 8406, 11935, 4335, 19372, 15304, 9214, 1890, 4317, 8264, 8217, 5504, 11123, 19600, 2595, 5953, 20003, 16388, 8936, 2194, 5354, 4042, 2557, 5375, 1022, 16414, 20017, 146, 10111, 144, 157, 8912, 10646, 10638, 8866, 10074, 171, 9085, 4044, 17417, 17416, 9057, 3289, 8911, 16358, 3868, 8910, 811, 10446, 16429, 2576, 2243, 20137, 16546, 10186, 5827, 122, 17283, 17275, 17258, 16641, 10214, 10213, 854, 3983, 10426, 3644, 16519, 4024, 139, 10401, 10400, 5392, 5393, 5851, 10382, 10362, 17333, 3886, 5877, 2558, 10165, 10381, 5211, 10052, 5293, 2544, 241, 15758, 15761, 11047, 11046, 5234, 11044, 11009, 9977, 8579, 17573, 10987, 1119, 11010, 8606, 9823, 2543, 19601, 19602, 2681, 2680, 15619, 1157, 244, 17204, 11170, 17595, 2542, 15715, 11149, 11146, 15663, 191, 10985, 9107, 6119, 5759, 6117, 6101, 10778, 2122, 2308, 10775, 8776, 16086, 10033, 8778, 6056, 8797, 3298, 8607, 2642, 15976, 231, 10006, 8645, 10007, 6149, 15846, 5268, 6147, 20314, 20312, 5464, 210, 2644, 6120, 4117, 1802, 9850, 1277, 474, 3482, 5665, 12884, 3380, 18021, 18022, 14400, 12939, 12945, 12946, 6682, 18023, 12747, 12984, 12989, 12993, 7603, 2412, 13011, 7581, 1613, 1612, 7580, 13034, 13035, 13037, 13038, 12988, 3759, 1663, 7665, 932, 12467, 14724, 16820, 18868, 17097, 7758, 5517, 694, 4942, 1695, 12529, 14595, 689, 14570, 7742, 7734, 1331, 1334, 12559, 18784, 12582, 7710, 18782, 3760, 2503, 3026, 7672, 7743, 7537, 674, 3474, 13, 9418, 16971, 9441, 18200, 16995, 18445, 4715, 4717, 4798, 2442, 18417, 17047, 634, 18269, 18376, 6969, 13736, 18295, 7131, 13796, 4750, 18335, 18334, 20594, 3428, 7051, 17023, 6936, 9404, 5581, 7279, 7517, 6714, 6715, 18619, 2414, 7492, 7491, 3752, 18600, 7486, 7473, 18079, 509, 14273, 14256, 13164, 7433, 3461, 14247, 1575, 18099, 13249, 16913, 1562, 645, 1560, 1559, 13359, 13420, 1711, 1712, 12924, 1735, 15059, 12347, 1714, 12395, 19085, 392, 7988, 19078, 715, 7838, 19010, 399, 702, 6549, 20491, 12368, 2817, 33, 17894, 7931, 12251, 12346, 6577, 12348, 14940, 705, 4989, 704, 12401, 14909, 7989, 19126, 14961, 19087, 20509, 7814, 6521, 9275, 17875, 12402, 12429, 7907, 1316, 1721, 5516, 418, 14854, 724, 19145, 14944, 18975, 1297, 14828], [173, 5598, 10577, 10572, 19940, 10615, 5321, 16286, 82, 7276, 1541, 8908, 8835, 172, 7791, 6026, 8722, 10842, 379, 6118, 3135, 18100, 6080, 3251, 18554, 13321, 344, 9804, 19919, 1557, 6052, 2301, 2483, 17481, 5319, 16196, 4869, 4867, 5776, 14160, 7317, 7295, 15009, 18533, 2995, 878, 7085, 91, 12153, 18292, 10324, 12197, 6990, 4745, 20119, 20251, 13690, 3436, 2283, 1494, 3641, 572, 10277, 20588, 20237, 7042, 19163, 7047, 17112, 94, 16588, 3981, 20199, 1795, 13811, 16601, 3182, 3268, 7007, 16458, 20072, 3439, 2931, 17049, 16384, 7921, 10109, 2183, 2780, 17115, 1777, 16759, 6805, 18512, 5580, 84, 7920, 5933, 9608, 1291, 9830, 18396, 9458, 5913, 10422, 6909, 143, 2513, 2440, 2204, 3883, 17795, 18244, 7196, 17376, 6804, 18596, 19103, 19105, 18973, 1900, 9305, 1992, 12658, 17197, 3806, 12687, 8527, 11298, 2329, 2328, 12690, 19556, 11278, 2501, 7628, 4193, 6672, 18722, 774, 18993, 6667, 17641, 12770, 1655, 17638, 4601, 11864, 5743, 20346, 15208, 8501, 17642, 2351, 15470, 2732, 11747, 18843, 6341, 17180, 17691, 1945, 17670, 12482, 432, 11720, 11691, 8380, 18870, 3379, 6392, 701, 20368, 1903, 11818, 18763, 9304, 15519, 1691, 16875, 9163, 3685, 18960, 3497, 282, 19434, 5183, 9958, 2870, 4312, 758, 757, 18645, 756, 11008, 8163, 6184, 17571, 1869, 7576, 4363, 7533, 1620, 12321, 10963, 3119, 18058, 17955, 14318, 19727, 18060, 3830, 12009, 10874, 3792, 4511, 2083, 1621, 9006, 5755, 11117, 11114, 6520, 6615, 19668, 12920, 18681, 15756, 19031, 11068, 7858, 12903, 11909], [9290, 5629, 5723, 9090, 3197, 9384, 2489, 9534, 3808, 5490, 3239, 2490, 9225, 5700, 9343, 5508, 9222, 5563, 5630, 3815, 9409, 9331, 3834, 3838, 9176, 2470, 9133, 3885, 9367, 3201, 9274, 3212, 5703, 5673, 2528, 9505, 3198, 9526, 9313, 5567, 9215, 9506, 5747, 9273, 9089, 5722, 5701, 5698, 9221, 5607, 5767, 9346, 9278, 7033, 5817, 7863, 2821, 7835, 6646, 4552, 3033, 3505, 4948, 4931, 7696, 3028, 3027, 2860, 4593, 4594, 4929, 4925, 4609, 3485, 4519, 3481, 7866, 7875, 4414, 6477, 8098, 4415, 5039, 4439, 8056, 8046, 5036, 5020, 8023, 7998, 7996, 7977, 4995, 7936, 2803, 4976, 4974, 4506, 2767, 4612, 2875, 3449, 7219, 3448, 4701, 4827, 2985, 2939, 2940, 4722, 6919, 7185, 7182, 6984, 7075, 2971, 4757, 4758, 7050, 3427, 4837, 4621, 4699, 4846, 4629, 2883, 4645, 4905, 3005, 4681, 6792, 4683, 3003, 4882, 4688, 4876, 7290, 7281, 2918, 4854, 7243, 3402, 4853, 4842, 2569, 8113, 2763, 4086, 3146, 2618, 6046, 8806, 5273, 6068, 5272, 8759, 2638, 3301, 8735, 3127, 2649, 3126, 5254, 6154, 8654, 8612, 8894, 8610, 6012, 4071, 5818, 8989, 8988, 5449, 4007, 4011, 5853, 5854, 5401, 5399, 5902, 5923, 4029, 8939, 5360, 5341, 8917, 5340, 5968, 8902, 2765, 6172, 2672, 6322, 8411, 8368, 8347, 8342, 6379, 5105, 3567, 6414, 2743, 3563, 4318, 6431, 6433, 3072, 5071, 6456, 4392, 4394, 8453, 2671, 8455, 3090, 8559, 6174, 5217, 8556, 3106, 6207, 6253, 2686, 8541, 6257, 8539, 6258, 8520, 4259, 8505, 8494, 8475, 6280, 6302, 2706, 8423, 10315, 9586, 12548, 12547, 16946, 12546, 19739, 12544, 16967, 1699, 1700, 1701, 12497, 16976, 17011, 12496, 19770, 12477, 12456, 18688, 12408, 17076, 12406, 17083, 12381, 886, 17107, 1739, 12356, 12355, 12333, 18713, 12588, 19713, 12591, 13083, 13082, 13056, 16860, 16886, 19690, 16887, 16891, 13032, 19694, 13020, 12997, 16916, 12974, 12323, 12973, 1635, 12759, 16933, 16936, 16941, 12676, 915, 12651, 12647, 12645, 12643, 12642, 12619, 12616, 12954, 1760, 17117, 17121, 20005, 17351, 11995, 1873, 20006, 1876, 18589, 17389, 20058, 18585, 17404, 20062, 11899, 1892, 20004, 11878, 11877, 11876, 11855, 17406, 11806, 11805, 1912, 20089, 11764, 20106, 11758, 129, 11729, 11728, 138, 16822, 1859, 12059, 876, 18657, 12255, 12254, 12232, 12230, 1782, 12212, 12211, 1785, 12207, 12203, 18632, 19956, 1855, 12188, 1805, 1807, 12162, 12158, 19960, 1827, 1828, 12105, 17329, 165, 164, 12094, 17337, 17349, 12182, 814, 16807, 16786, 16139, 16143, 14916, 18854, 18853, 16299, 16321, 14617, 14575, 14535, 16327, 1337, 14480, 19338, 14380, 14379, 14363, 1362, 14339, 14337, 16390, 14281, 14280, 1383, 14193, 16444, 14150, 19382, 16461, 1302, 14965, 18856, 16047, 19123, 19131, 19038, 15591, 19034, 19032, 15462, 9566, 422, 15381, 15379, 1142, 19173, 15830, 19399, 15281, 15868, 15263, 15249, 18901, 15228, 19242, 15197, 18897, 1264, 15076, 1279, 19281, 15963, 16035, 15844, 1410, 14078, 19423, 18733, 19562, 13492, 19586, 13484, 19588, 13464, 19610, 13443, 13442, 16678, 18731, 16685, 19626, 13562, 1544, 18729, 13403, 16701, 16707, 13378, 948, 19653, 13340, 16785, 13174, 19670, 1585, 1586, 242, 13423, 13105, 18272, 13650, 16487, 14027, 1429, 1432, 1433, 14000, 13999, 13997, 19445, 13976, 13971, 13918, 13917, 13909, 18746, 994, 19486, 13898, 19487, 13896, 13876, 13795, 13787, 13700, 1486, 19548, 13679, 13676, 13669, 19549, 1451, 17472, 19961, 17505, 2250, 10264, 2253, 17991, 10239, 10220, 17992, 20395, 17997, 10196, 10195, 2275, 18007, 18011, 10313, 10116, 18064, 10092, 10080, 10040, 20408, 18365, 20410, 10013, 2318, 18336, 9953, 9942, 2336, 2338, 18063, 9880, 17985, 2235, 20321, 17899, 66, 10605, 10604, 718, 20378, 18411, 17941, 10568, 10563, 10562, 18388, 10524, 10330, 2182, 10522, 18385, 17959, 17962, 10477, 10476, 10465, 17963, 10453, 10416, 2214, 10411, 18384, 10389, 20394, 18135, 18137, 9879, 9675, 9674, 18209, 9654, 9648, 9647, 9646, 18230, 9645, 19, 9626, 9620, 18231, 9617, 9676, 9615, 18232, 18297, 18252, 20599, 2443, 20600, 18273, 2445, 18253, 18254, 9593, 9592, 9591, 9587, 9614, 2415, 9679, 9680, 2353, 9877, 9868, 9867, 9849, 20451, 2367, 2368, 2369, 9836, 9835, 9834, 9833, 18152, 9817, 9816, 2381, 9683, 18189, 18174, 18170, 9711, 9715, 17878, 2402, 9738, 20518, 9756, 9759, 2386, 9813, 2399, 20319, 2249, 10669, 11227, 11211, 17677, 17699, 18496, 10665, 11156, 11139, 11099, 11098, 11238, 11079, 17700, 17712, 10994, 10986, 2076, 17724, 2080, 20240, 20241, 10954, 20215, 11239, 2008, 11285, 126, 17539, 17540, 11591, 1956, 788, 20131, 18559, 1957, 1960, 17600, 18544, 20151, 11499, 1983, 772, 114, 17649, 20169, 17672, 11363, 20189, 17673, 20242, 20244, 15547, 10864, 10808, 2139, 10713, 10731, 2112, 17860, 10833, 2114, 2115, 10733, 10734, 20263, 20266, 20299, 20261, 20283, 17787, 10782, 10860, 17783, 17821, 2100], [449, 18164, 16094, 17614, 5220, 18156, 17835, 16051, 16049, 18522, 16061, 18593, 16363, 18165, 16346, 3409, 5159, 6034, 18724, 16305, 16345, 16322, 17831, 3346, 18166, 5683, 5175, 5158, 16038, 18393, 15994, 17551, 18967, 17544, 15691, 823, 17407, 4808, 411, 795, 17883, 17522, 18566, 6210, 18580, 19055, 18428, 15558, 805, 15615, 15791, 6161, 4781, 18716, 17948, 16897, 15951, 18860, 15927, 5345, 18884, 17585, 15875, 16942, 17901, 428, 558, 561, 5344, 17863, 17569, 18955, 17605, 17327, 16418, 16385, 16630, 17164, 18751, 18658, 895, 18683, 16744, 17715, 4886, 16629, 16612, 16611, 5476, 16746, 16609, 16608, 3186, 16645, 16647, 4909, 5063, 16681, 5046, 17749, 5055, 18579, 974, 16668, 5514, 18752, 3203, 17062, 16706, 16663, 4912, 16662, 16651, 16648, 3383, 17998, 16374, 18096, 18479, 16478, 1008, 16470, 5140, 18611, 3470, 16449, 18774, 18319, 18790, 16423, 19073, 18610, 506, 5927, 1028, 5141, 16986, 18773, 18139, 18694, 18342, 17183, 18640, 18323, 18725, 17020, 4873, 18753, 16607, 5844, 17201, 17974, 17971, 18490, 18630, 16527, 16500, 18629, 3264, 16563, 19550, 15515, 8374, 11707, 20111, 11670, 3642, 11665, 11640, 11617, 8418, 11593, 8442, 8451, 11572, 11529, 11480, 11458, 11438, 10998, 10999, 11000, 20208, 11163, 2676, 11712, 20207, 11289, 11291, 20206, 11370, 11413, 11436, 11271, 11715, 11739, 1919, 183, 7933, 19096, 7916, 198, 12265, 19928, 12267, 19849, 19814, 12393, 7832, 7828, 7824, 12268, 2078, 1792, 8002, 11837, 8231, 1881, 11951, 20014, 11998, 2790, 8129, 8086, 1835, 19967, 1832, 4067, 2782, 1843, 12441, 10977, 8686, 9046, 10154, 9051, 10104, 10017, 9094, 20417, 3693, 20432, 9195, 9199, 9229, 20486, 20502, 2391, 3762, 9722, 20627, 9521, 9601, 3710, 20558, 20555, 20400, 20554, 9386, 9375, 20541, 9691, 2408, 20525, 9412, 10179, 20397, 10198, 3823, 10621, 20305, 8827, 3846, 20291, 20351, 20289, 8766, 8764, 10772, 3878, 3899, 8709, 8805, 3956, 20361, 10580, 9001, 10248, 20629, 10396, 10425, 10433, 10588, 10459, 8927, 10486, 10508, 2177, 20380, 58, 2592, 12461, 4791, 1703, 3040, 19324, 3037, 14820, 6628, 14761, 14509, 14506, 19333, 19342, 19343, 14324, 6759, 14220, 19306, 14198, 14133, 19387, 19406, 14051, 19428, 14008, 6928, 4293, 19448, 19473, 13878, 19493, 13853, 13808, 3001, 7100, 6612, 15002, 1185, 19137, 1187, 4498, 19144, 15466, 15465, 19161, 15402, 6403, 6404, 19180, 19183, 19184, 19298, 19222, 354, 15244, 15204, 19247, 19250, 4421, 15071, 6538, 19297, 1286, 6562, 15035, 15029, 15026, 6438, 287, 2992, 7320, 19590, 19696, 12981, 7615, 7265, 7594, 13043, 13432, 13431, 1605, 13410, 7570, 19632, 2886, 2887, 7506, 7334, 7339, 239, 1590, 7393, 3595, 1569, 7661, 7223, 19613, 19661, 13541, 7762, 19551, 12527, 19552, 12554, 12572, 13610, 7775, 13634, 7187, 12654, 2867, 13566, 13496, 7207], [4749, 20403, 4747, 20586, 18674, 19804, 19680, 18669, 4470, 19918, 18966, 20425, 3787, 4539, 19726, 18322, 19874, 18371, 18306, 19831, 20510, 19158, 4530, 19511, 19980, 18466, 18572, 4602, 20231, 19404, 19754, 4311, 18564, 18457, 3978, 20192, 20173, 18563, 18503, 18508, 4245, 19494, 20134, 20120, 4329, 19592, 19371, 4561, 4664, 4565, 18545, 18819, 4670, 4577, 20045, 4403, 19327, 18422, 4582, 18813, 20074, 20093, 19345, 18444, 4356, 4349, 4413, 19888, 6365, 18236, 12150, 12195, 12201, 7983, 7939, 12219, 12143, 7912, 12326, 12366, 12372, 12443, 7789, 7787, 7910, 12545, 12115, 12096, 8337, 8321, 8306, 8289, 8262, 11902, 12106, 8194, 8183, 11957, 12004, 12005, 12069, 8092, 11954, 11744, 7738, 12717, 13521, 13536, 13563, 13576, 13662, 13688, 13502, 13702, 13827, 13866, 7041, 7021, 13908, 6987, 13758, 7704, 13491, 13452, 13030, 7541, 13044, 13104, 13130, 13144, 13476, 13216, 13364, 13390, 7277, 13436, 7240, 13448, 13351, 8383, 8385, 11668, 9933, 9971, 9973, 9992, 9096, 10026, 9909, 10107, 9027, 10210, 10523, 8904, 10573, 10583, 10155, 8887, 9840, 9824, 9594, 9495, 9605, 9454, 9606, 9607, 9829, 9611, 9634, 9353, 9700, 9730, 9285, 9279, 9612, 8859, 8850, 8837, 11020, 11157, 8557, 8551, 11311, 8530, 10995, 11340, 8521, 11407, 11527, 11582, 8447, 11664, 8522, 10975, 10956, 10942, 8836, 10637, 8829, 10674, 10697, 8811, 8810, 10745, 8749, 10783, 8724, 10843, 8718, 10930, 8693, 13936, 13979, 14009, 14061, 17193, 17218, 5456, 17254, 17291, 17316, 17181, 5428, 17350, 17378, 17386, 17387, 17394, 17438, 5417, 5313, 5498, 5544, 5823, 5795, 5783, 5775, 5771, 5750, 5538, 16691, 5661, 5647, 16944, 16992, 17033, 5561, 16776, 17480, 17507, 17526, 4966, 17957, 17978, 18003, 18017, 18050, 17946, 18071, 18101, 18123, 18124, 4863, 18148, 4821, 18098, 17930, 4998, 5000, 5260, 17583, 17592, 5224, 17608, 5206, 5202, 5097, 5086, 5081, 17732, 5057, 5028, 5012, 5009, 16597, 4815, 5855, 16428, 14934, 14937, 15027, 6555, 15048, 15072, 14869, 15109, 6464, 15247, 15272, 15290, 15293, 15298, 15185, 15342, 14723, 14477, 14062, 14082, 6862, 14107, 6845, 14113, 14681, 14159, 6732, 6731, 14329, 14412, 14462, 14466, 14297, 15372, 15443, 6313, 15874, 15902, 15909, 15944, 6079, 16116, 6139, 16156, 16255, 16258, 16271, 16336, 16341, 5994, 16232, 15837, 15817, 6176, 15490, 6307, 15510, 15512, 15536, 6267, 15554, 15582, 6237, 15597, 15644, 15647, 6183, 6182, 15659, 16445, 12019, 20630, 1578, 2090, 3007, 1168, 1672, 3041, 3376, 202, 1683, 2295, 1203, 1899, 1211, 2299, 1991, 2300, 3643, 2578, 2951, 1237, 1407, 2952, 894, 1730, 1403, 1253, 1397, 1256, 1497, 3105, 1658, 2906, 468, 2238, 1016, 1944, 2809, 1946, 1060, 1062, 1068, 2255, 2540, 2514, 3438, 1393, 1558, 1549, 1123, 3418, 1924, 2697, 3414, 3108, 2061, 1654, 2482, 2930, 303, 2830, 3431, 1392, 923, 1311, 3294, 1811, 3275, 771, 2105, 169, 3621, 3274, 1862, 2758, 1326, 1780, 3601, 2331, 2028, 1806, 519, 3248, 3574, 2775, 2327, 1798, 2011, 1266, 2104, 1799], [8003, 8804, 16598, 10437, 16576, 4134, 6159, 4147, 12088, 12815, 9072, 16624, 2551, 16638, 17430, 2552, 9075, 4466, 16623, 17087, 12875, 9115, 16376, 2640, 16377, 19251, 7946, 3489, 17547, 16399, 6072, 6074, 10354, 1863, 19361, 12024, 4132, 16450, 16468, 12957, 12955, 522, 16493, 16494, 2219, 16515, 16516, 20503, 12065, 12895, 7247, 12857, 12960, 12127, 12707, 8137, 16899, 19593, 4379, 12312, 3097, 2949, 19816, 16922, 12524, 917, 12359, 16962, 4348, 16981, 8897, 19589, 12478, 20539, 12440, 4324, 8921, 10586, 18616, 12391, 12389, 4302, 10608, 6332, 20538, 6361, 20245, 7189, 12552, 12708, 16751, 10487, 1790, 87, 842, 16773, 9049, 4224, 8872, 19286, 16789, 16790, 10512, 8004, 8873, 3544, 16825, 6242, 12573, 20522, 2610, 8028, 4397, 19325, 12553, 9021, 7944, 7119, 4247, 9045, 9160, 2990, 469, 15154, 1262, 3329, 5117, 7503, 7679, 14240, 20358, 14260, 5161, 2865, 7526, 2406, 7658, 14311, 19675, 9948, 14326, 14130, 19658, 15339, 13948, 10044, 15316, 13982, 14005, 20433, 1247, 20031, 7461, 3345, 19719, 15268, 5044, 222, 19657, 14006, 5002, 14327, 20416, 14463, 7569, 7616, 14799, 14484, 14742, 14691, 14816, 2371, 5328, 14675, 14602, 14641, 14619, 19697, 9818, 14579, 15001, 14461, 5256, 19676, 7641, 14951, 7639, 14367, 14920, 5475, 5453, 2342, 5241, 2390, 3263, 9903, 14864, 18985, 5255, 5240, 1616, 13903, 20435, 19228, 13207, 7893, 19225, 13291, 16036, 3166, 9230, 19634, 4764, 4782, 15857, 9347, 9349, 4812, 7845, 9322, 10177, 13191, 4705, 20487, 19249, 19248, 20290, 18755, 3469, 4651, 4706, 2535, 5999, 16207, 7913, 19775, 10272, 5979, 4095, 3466, 9580, 13497, 5843, 13705, 1182, 13728, 4933, 18881, 13753, 13775, 10123, 15464, 5728, 1201, 13801, 135, 4979, 7749, 20341, 5731, 4829, 4908, 3387, 13516, 10151, 15730, 13567, 9391, 15710, 5807, 1489, 5806, 7801, 13633, 10125, 15629, 19156, 20453, 9448, 1146, 3616, 10417, 11860, 8398, 6983, 8685, 3708, 17926, 17927, 6587, 3679, 1940, 6825, 11550, 3917, 17706, 11554, 670, 714, 2674, 8275, 6824, 11453, 8513, 11290, 3709, 6939, 20216, 11187, 6770, 8311, 18280, 18092, 19512, 8662, 19496, 18257, 11206, 19450, 6979, 662, 8515, 3009, 11248, 10959, 19510, 17839, 3749, 17906, 10887, 17907, 8261, 17683, 17684, 17656, 19472, 8422, 6797, 8213, 1898, 632, 7039, 19851, 3728, 11336, 11355, 11832, 11595, 6799, 8214, 19492, 11159, 19868, 11322, 17973, 11324, 20603, 8462, 4075, 18370, 11950, 11859, 19429, 11390, 11141, 3039, 6697, 4019], [3963, 10447, 19603, 20508, 10964, 647, 16659, 7763, 8600, 9118, 7420, 1198, 2208, 7419, 2547, 15495, 2307, 11736, 15261, 284, 6153, 384, 2563, 20512, 2545, 4388, 12844, 3210, 12562, 10912, 16626, 651, 4944, 19397, 1427, 10969, 12746, 6641, 10948, 7451, 639, 3987, 9576, 19127, 947, 6227, 1660, 2934, 5696, 10053, 11801, 550, 15356, 13907, 6197, 739, 640, 3539, 7421, 1979, 11465, 5032, 16837, 16836, 15435, 16029, 2086, 12782, 10518, 7436, 629, 11773, 6642, 15307, 7437, 7438, 15412, 15411, 4967, 12860, 785, 16564, 16200, 2269, 9333, 7370, 20472, 11630, 4797, 7372, 2911, 6687, 1596, 9187, 1597, 7373, 2245, 2244, 9186, 19241, 7374, 10181, 7839, 10310, 19439, 1609, 1610, 3866, 11652, 4787, 4786, 4785, 3904, 6717, 10234, 9291, 7348, 5916, 692, 9269, 19215, 19214, 11016, 2907, 693, 3882, 3865, 2682, 2267, 5964, 7331, 7357, 4773, 19231, 15888, 10211, 20473, 3902, 679, 678, 7860, 9218, 7389, 3921, 3864, 3941, 7278, 475, 12948, 7407, 7408, 6107, 19259, 2703, 11483, 7409, 6970, 15567, 719, 9472, 1640, 15544, 20330, 7256, 15526, 7252, 16547, 20099, 2211, 723, 2797, 7968, 7969, 653, 5757, 3850, 12964, 3923, 10996, 15740, 15739, 7391, 11544, 3021, 16379, 9380, 16386, 1619, 15718, 1622, 9440, 11674, 1623, 7392, 666, 1025, 16416, 665, 20494, 9416, 20459, 3500, 2229, 10138, 2833, 6058, 654, 4410, 5062, 14377, 12224, 11197, 6412, 514, 515, 7630, 2869, 5233, 7028, 3308, 7632, 400, 19336, 12176, 836, 7088, 17355, 2132, 2754, 8816, 2131, 593, 8815, 4058, 5483, 9, 12247, 6347, 8407, 19317, 3254, 3257, 7538, 7128, 20547, 14332, 5185, 1759, 5186, 6374, 4045, 4046, 7651, 17644, 7650, 14990, 5503, 11217, 7648, 7110, 5208, 6851, 8814, 396, 592, 3740, 6487, 813, 2358, 9865, 7575, 17473, 6870, 7606, 7579, 3607, 7605, 8773, 14730, 2110, 7582, 2755, 7600, 6523, 14589, 17568, 571, 10823, 18403, 2725, 6507, 14785, 5289, 6551, 3739, 6460, 14851, 17399, 7558, 7560, 5445, 8792, 9892, 11173, 11, 11168, 4160, 5432, 8791, 5431, 14807, 6473, 6868, 2123, 7031, 6890, 10776, 10777, 5288, 4179, 5167, 6716, 7490, 2891, 5558, 17053, 17054, 7180, 7673, 2000, 760, 10008, 8986, 8432, 10597, 762, 1278, 7472, 10598, 11300, 5128, 6278, 619, 906, 5099, 4337, 10895, 19086, 5096, 7489, 8675, 18206, 2417, 2896, 2166, 2582, 12427, 20530, 20529, 496, 10599, 5145, 3334, 12533, 2149, 4275, 20167, 7471, 2600, 17132, 17131, 8913, 15032, 6578, 15038, 15039, 7516, 2890, 12377, 5146], [14735, 9991, 15258, 3722, 14142, 5664, 3734, 10011, 5390, 2276, 2419, 14550, 9650, 2876, 15191, 7855, 7714, 8506, 19437, 14791, 15921, 18831, 11094, 3719, 10173, 14648, 1524, 14600, 5434, 7842, 14170, 2898, 18934, 1527, 9358, 385, 9362, 10212, 19213, 2305, 6810, 14524, 14528, 14534, 5376, 18919, 2306, 8430, 14684, 5879, 5880, 15210, 2724, 2364, 15887, 2856, 10204, 19206, 19037, 5415, 15822, 15969, 1225, 15965, 15924, 14562, 15823, 14789, 9308, 2857, 14586, 11378, 15941, 15827, 1228, 11032, 2357, 15916, 9893, 1194, 14444, 5499, 5497, 5765, 7645, 9923, 14970, 6850, 5209, 1276, 2737, 15585, 4900, 9915, 8304, 2834, 14096, 5486, 15434, 1159, 663, 7633, 10112, 9500, 2290, 15064, 20080, 19150, 13734, 9937, 19069, 4937, 3699, 11237, 14306, 15502, 14928, 15506, 13781, 5506, 436, 18452, 5758, 20613, 1295, 18477, 15520, 5150, 1188, 15350, 15080, 9442, 43, 2980, 19678, 14399, 11050, 14878, 13886, 13561, 5112, 4843, 2051, 13895, 15734, 7556, 18937, 11430, 18468, 145, 19458, 9897, 14836, 7745, 11195, 6934, 9908, 3670, 11198, 9684, 1498, 1499, 421, 1974, 14248, 5551, 7631, 11074, 20019, 1459, 14893, 1140, 14212, 1139, 15701, 7813, 20621, 3399, 7817, 5557, 423, 9244, 6106, 12691, 847, 8062, 943, 4232, 7111, 4314, 10687, 8869, 6100, 6103, 12942, 6323, 11917, 19379, 8013, 10681, 19578, 4549, 11908, 8099, 11699, 3025, 7105, 17223, 7104, 12228, 12160, 3560, 17785, 3930, 17345, 8704, 12376, 4604, 17005, 7298, 6062, 19622, 125, 2232, 8700, 8584, 16411, 12202, 1788, 6223, 4217, 8112, 4219, 11675, 2072, 17059, 6121, 4296, 3959, 8247, 8205, 20101, 16632, 502, 4480, 7134, 6576, 9066, 8907, 12756, 8914, 11754, 9068, 10470, 8608, 964, 1889, 209, 4287, 11892, 16618, 8064, 17693, 18706, 6372, 1756, 10408, 6128, 7215, 17198, 8066, 1931, 3123, 8888, 7970, 9125, 7024, 4264, 17851, 2209, 9110, 3121, 9109, 4505, 4503, 482, 952, 987, 17917, 11669, 16367, 3160, 10898, 13172, 7329, 3609, 2565, 19773, 1584, 2970, 4123, 12062, 9192, 20140, 5988, 2579, 16197, 1847, 1846, 9190, 12072, 4136, 4673, 10283, 3018, 10286, 16935, 12014, 19503, 690, 4373, 10534, 9014, 17576, 17572, 1951, 11996, 1871, 6522, 4004, 16073, 9243, 9242, 10899, 4103, 4369, 6519, 6256, 252, 4106, 4368, 11958, 17440, 7034, 2802, 11829, 4166, 4646, 4185, 16347, 17418, 17419, 4173, 16843, 4141, 3634, 163, 1601, 4063, 17630, 934, 6484, 13102, 6680, 6282, 7929, 12141, 18539, 928, 19300, 19299, 17766, 4154, 10916], [14119, 15158, 12485, 18949, 14116, 6271, 7691, 1709, 19708, 3247, 3793, 6908, 2752, 16912, 8673, 2167, 212, 12491, 5555, 7177, 10594, 12445, 10593, 12505, 17057, 5604, 64, 5603, 243, 6315, 11869, 204, 9999, 5549, 9963, 5577, 6273, 10579, 19669, 5547, 8428, 7686, 394, 13294, 14266, 174, 2635, 19559, 17436, 11936, 6474, 4156, 11128, 6471, 5446, 5266, 10751, 6892, 2872, 5460, 4175, 6459, 14852, 6451, 175, 3266, 19687, 4118, 14632, 4088, 10825, 18404, 206, 14610, 19008, 5338, 5377, 5378, 8175, 4104, 578, 205, 14546, 10800, 5394, 14545, 19030, 6871, 14874, 12140, 6445, 12537, 17643, 14987, 11120, 8095, 14333, 8695, 11229, 11231, 15008, 868, 15012, 5520, 8892, 6346, 3050, 5535, 10640, 1734, 19577, 5496, 14960, 6848, 3622, 14883, 11127, 597, 14891, 18578, 12199, 20239, 17637, 6836, 5478, 12225, 14923, 2031, 8862, 14359, 10698, 93, 12249, 14355, 5479, 10541, 12558, 3337, 15609, 7792, 13670, 17893, 31, 8218, 7794, 11694, 18736, 10363, 158, 6671, 12963, 18739, 6081, 16433, 13601, 3139, 5802, 8253, 16496, 20612, 16502, 8245, 7759, 6180, 8470, 9082, 7233, 10444, 9101, 5751, 5803, 15498, 5756, 1978, 14631, 19732, 12909, 1003, 18078, 12921, 1170, 5754, 963, 1019, 3140, 11005, 7905, 11625, 4695, 154, 2067, 109, 6947, 5897, 5951, 119, 16068, 19432, 9283, 7882, 13326, 7877, 4738, 13295, 16194, 13132, 3905, 5869, 189, 6932, 6938, 13556, 10167, 5850, 9168, 16320, 16284, 13600, 9170, 8502, 19639, 15796, 40, 1056, 15797, 460, 156, 3421, 3471, 5719, 16477, 14622, 1904, 1448, 5640, 16766, 2751, 9289, 12684, 2, 15370, 7214, 5639, 8015, 5638, 5695, 6988, 11403, 738, 19106, 7200, 10514, 7198, 2853, 1996, 5018, 6916, 5717, 11075, 6917, 6250, 2055, 12566, 13959, 7735, 5646, 15328, 5653, 7009, 17779, 6986, 962, 4455, 69, 10472, 12748, 11845, 4982, 1458, 6193, 12714, 19099, 4986, 5624, 8222, 9564, 380, 6639, 15394], [3174, 1687, 1688, 10275, 228, 1535, 14490, 6022, 10302, 7173, 19685, 5419, 1594, 300, 3151, 20070, 3164, 6945, 262, 20223, 5656, 5930, 7002, 20194, 5945, 5982, 5984, 1573, 1551, 5637, 324, 3015, 19024, 5946, 19025, 321, 5384, 3172, 10837, 5370, 3175, 358, 3102, 19023, 13343, 19022, 323, 14135, 10797, 12029, 325, 10819, 10229, 12048, 11088, 10840, 5985, 3173, 6189, 12111, 3134, 13687, 299, 19061, 20197, 9955, 19616, 1637, 10892, 13657, 2325, 7154, 1773, 1455, 14202, 3192, 19059, 13612, 3204, 10869, 301, 6190, 6834, 375, 6340, 374, 13832, 10659, 3113, 3118, 298, 20253, 12317, 10979, 261, 10420, 20114, 20123, 2094, 6076, 12134, 12133, 12480, 1516, 10303, 1352, 3149, 6040, 1441, 3176, 3065, 6024, 12114, 5594, 12113, 12112, 1351, 19666, 13522, 10319, 20092, 14181, 13589, 10340, 336, 337, 13572, 20195, 13570, 278, 10322, 3189, 13553, 13552, 10321, 10320, 10323, 6038, 8377, 5350, 18889, 19854, 9582, 8629, 8628, 8626, 19724, 19943, 5025, 5027, 19939, 19938, 9635, 19937, 18911, 18928, 2459, 15467, 17457, 19827, 19828, 19829, 2478, 19830, 17686, 3617, 18866, 16732, 9471, 8692, 15468, 3371, 19950, 18929, 19936, 19935, 2696, 20606, 9694, 9697, 18037, 9698, 2695, 18041, 9699, 18043, 18044, 18051, 18052, 18963, 18042, 18015, 18947, 18014, 19934, 19933, 19932, 17954, 9659, 9661, 9662, 9664, 19931, 17977, 8519, 19872, 18946, 18002, 18013, 19826, 19825, 3413, 19746, 19784, 19974, 4556, 4557, 4558, 4559, 4537, 16902, 16472, 1011, 4573, 4574, 4586, 19783, 4560, 4536, 4535, 4534, 16716, 16733, 16734, 18680, 19788, 18679, 4490, 18667, 19789, 16580, 19790, 19787, 19786, 19785, 4533, 4599, 5181, 19782, 19802, 8834, 19822, 19753, 15880, 2625, 19752, 19821, 19751, 19749, 19823, 17413, 19748, 8789, 19824, 19750, 19820, 4743, 4735, 8954, 16990, 16991, 19779, 8953, 17022, 16308, 19971, 16253, 17089, 2773, 7901, 8881, 9261, 18821, 19781, 9726, 9055, 18287, 5225, 19895, 9771, 19913, 9769, 9767, 8355, 19904, 19917, 5314, 19004, 18147, 19911, 19903, 9766, 18263, 19899, 5331, 9800, 19902, 19900, 19892, 9763, 19891, 18988, 14708, 18242, 19894, 19889, 14695, 9799, 18970, 20049, 9772, 5330, 19897, 5333, 19893, 9728, 18989, 19896, 5347, 18226, 9764, 5306, 5259, 14846, 9727, 9729, 14823, 8469, 18221, 19898, 9765, 18142, 5309, 5349, 5348], [4273, 12223, 877, 4216, 12227, 4227, 13262, 512, 458, 6394, 19315, 7107, 5935, 18779, 8864, 5938, 17202, 17160, 17203, 12300, 9217, 4257, 1761, 13180, 6373, 4258, 4261, 13271, 1577, 12340, 19316, 18798, 3457, 1064, 1075, 19236, 17237, 17238, 17241, 3458, 5952, 8865, 17168, 511, 13186, 17259, 20616, 6410, 4813, 9351, 9869, 15772, 14472, 7837, 19350, 5847, 4143, 4142, 15755, 19351, 6488, 17411, 19185, 4135, 3776, 19645, 3780, 2281, 13546, 17504, 6506, 4845, 8750, 124, 15725, 15720, 365, 14804, 15824, 4794, 7102, 2814, 9295, 20387, 12196, 20238, 6427, 2502, 6428, 10728, 2616, 18777, 9315, 2816, 6440, 17352, 4195, 5891, 2265, 17379, 18841, 15897, 17396, 14782, 15847, 2271, 5874, 10187, 3597, 9286, 12177, 20000, 4294, 18718, 12581, 3735, 10520, 16543, 2560, 14588, 2561, 11169, 8364, 12900, 7961, 7960, 10405, 12861, 478, 12556, 14628, 10404, 476, 16874, 18730, 18656, 19258, 19257, 14682, 4386, 6102, 9011, 18651, 16861, 472, 9119, 996, 6195, 959, 16704, 19275, 965, 949, 6185, 945, 12783, 16657, 12700, 2192, 19276, 2378, 10515, 2191, 981, 20273, 12802, 19597, 6225, 10492, 2188, 12821, 10441, 10494, 993, 2559, 4504, 14647, 2793, 20296, 4365, 10365, 1036, 1037, 905, 4624, 4625, 9162, 10567, 1713, 12446, 7604, 10571, 8059, 19999, 4326, 16364, 896, 8405, 13052, 17529, 13054, 4647, 6319, 4316, 4315, 13077, 1732, 6009, 6008, 3757, 4295, 13051, 7602, 16380, 16387, 18644, 2996, 2914, 2226, 8400, 6084, 18738, 12966, 16439, 2227, 16435, 2580, 12515, 11124, 12481, 16949, 20528, 2539, 16950, 3495, 1698, 1021, 19620, 20054, 16968, 6060, 6059, 16974, 8963, 14549, 19994, 801, 19187, 799, 249, 15303, 2304, 19047, 17845, 8602, 19412, 11721, 15273, 17867, 1423, 17873, 108, 2664, 17888, 17889, 14070, 7713, 17890, 3339, 2855, 720, 18188, 3937, 15236, 14108, 15230, 8265, 15216, 8611, 11350, 13972, 13962, 9568, 17780, 19394, 15408, 9569, 19396, 15390, 15388, 13892, 4991, 20166, 541, 20158, 15373, 15355, 3982, 1449, 15348, 13914, 107, 9585, 19400, 6991, 7450, 6635, 7559, 10947, 19125, 6910, 5021, 17914, 17916, 11090, 18948, 15093, 1308, 15078, 14249, 1379, 20184, 2978, 14945, 2398, 14356, 15033, 9939, 2057, 3861, 2333, 14968, 14294, 11445, 19453, 11491, 5518, 7534, 2981, 1975, 6766, 18105, 5187, 14988, 5132, 5131, 5559, 7511, 3924, 6965, 2071, 9653, 15180, 14396, 7554, 17967, 11628, 7488, 420, 5236, 15142, 2895, 9567, 2684, 9982, 9981, 17986, 11601, 6713, 14374, 19084, 9681, 14224, 19081, 5480, 11402, 11576, 9913, 5583, 20584, 19370, 3624, 20021, 20334, 9894, 5437, 781, 6542, 4080, 4945, 4041, 4888, 1480, 1888, 2753, 11885, 14442, 14438, 15450, 2964, 2874, 7761, 2647, 5267, 2648, 1482, 10114, 15561, 4059, 13712, 13716, 15540, 1483, 776, 8701, 780, 6568, 6550, 773, 10106, 9515, 6571, 13730, 15494, 13733, 8696, 17613, 4025, 4060, 19168, 7049, 17588, 10089, 9560, 2646, 742, 13804, 4000, 8655, 4083, 17710, 4968, 2831, 1865], [2178, 11947, 11394, 18483, 8310, 12091, 19362, 18460, 6703, 6702, 2555, 6211, 6826, 10813, 2045, 8994, 101, 11481, 11598, 8713, 6878, 1837, 560, 20269, 11456, 11019, 6904, 18095, 2570, 6261, 687, 17607, 6927, 17431, 793, 8517, 6557, 661, 17495, 7061, 17509, 18343, 491, 939, 1964, 8372, 3857, 524, 3858, 8373, 16826, 12045, 10790, 18413, 4422, 8491, 10791, 12623, 2060, 11083, 6213, 186, 11556, 3603, 3010, 8190, 6907, 11575, 11503, 3012, 489, 12570, 11570, 12066, 17455, 18664, 11435, 20136, 4115, 19594, 587, 17429, 6923, 6537, 11836, 11928, 7099, 12336, 7098, 1789, 17189, 1749, 6421, 735, 11246, 19815, 734, 6630, 17163, 557, 8905, 4283, 11790, 10889, 10719, 10814, 8620, 8618, 11767, 2148, 2653, 6998, 6999, 10693, 17768, 540, 19392, 12239, 12237, 1770, 1768, 17295, 3692, 17752, 19818, 17213, 8663, 17713, 18284, 754, 507, 4017, 7123, 2609, 2145, 11814, 861, 17065, 4303, 4304, 11325, 1705, 11205, 11249, 18304, 2711, 18567, 18240, 16964, 4350, 20220, 12241, 7080, 4171, 18238, 8570, 8276, 2675, 698, 18178, 6467, 6560, 18307, 11685, 11688, 16985, 17385, 891, 12187, 17343, 10590, 17036, 12412, 18195, 1920, 17840, 19410, 17841, 18175, 168, 20218, 10739, 11905, 11716, 3660, 10978, 2622, 12146, 4190, 8592, 1820, 8948, 3976, 14760, 957, 15539, 13704, 15616, 2905, 3388, 7402, 4884, 7401, 1183, 7398, 10131, 7806, 15678, 1148, 9393, 13564, 7831, 3406, 2474, 1510, 9513, 9516, 10043, 13952, 18907, 13928, 15341, 5681, 19722, 5001, 15514, 13902, 5709, 7429, 10086, 13807, 10087, 13755, 13752, 18882, 13901, 15317, 13549, 5825, 2260, 3429, 3430, 15972, 5909, 9300, 446, 77, 13385, 13331, 134, 1566, 4730, 13254, 10244, 7341, 5943, 16083, 78, 5824, 9324, 13407, 19744, 2280, 4834, 3411, 5845, 5846, 4830, 1131, 7353, 15770, 15788, 5865, 15833, 2274, 1109, 19636, 4767, 4766, 4810, 18816, 1439, 20034, 9885, 5440, 14841, 14432, 14410, 14407, 9762, 14405, 14465, 14866, 5244, 2393, 9744, 7643, 14346, 15003, 9720, 5179, 14882, 2888, 1347, 14779, 7596, 14604, 14663, 14676, 14677, 1322, 14582, 20396, 1342, 14706, 9842, 9795, 14722, 14542, 14743, 14744, 7574, 7572, 14561, 9600, 14315, 5177, 3330, 5092, 14154, 7485, 7483, 7698, 9994, 19660, 5590, 223, 1414, 19098, 18923, 2430, 7463, 15271, 14031, 136, 429, 5178, 5108, 1390, 5176, 7659, 427, 14288, 14285, 15031, 1287, 15050, 1263, 15054, 9952, 5553, 14242, 14222, 7677, 7504, 5121, 5120, 15092, 450, 5791, 7947, 7945, 3488, 4652, 258, 16126, 13160, 4487, 19252, 16393, 7324, 5977, 4638, 5978, 7914, 467, 16427, 1587, 4532, 12817, 12979, 16555, 16577, 131, 16578, 5980, 18796, 10439, 2533, 12838, 2923, 4596, 2924, 7314, 12916, 1651, 2220, 6035, 1652, 10393, 4554, 2806, 16332, 152, 12762, 4464, 13026, 10318, 3536, 1632, 19614, 20484, 9076, 3148, 16517, 13001, 3531, 16355, 1630, 7266], [5090, 17958, 18922, 18939, 9656, 305, 11687, 15201, 6093, 10019, 15243, 339, 9142, 10371, 23, 5074, 17969, 10392, 6696, 13921, 2174, 9627, 13012, 15383, 4983, 378, 13024, 13839, 15421, 2454, 3044, 1468, 10909, 8661, 1469, 10902, 279, 8671, 12457, 1450, 13187, 5678, 263, 20288, 15265, 15266, 14042, 6069, 4353, 14021, 17850, 9629, 14191, 7460, 9597, 7950, 8051, 18904, 13937, 18903, 5674, 17836, 16895, 18952, 9678, 14507, 5286, 14483, 2986, 9878, 1348, 4486, 5278, 16756, 5277, 14459, 20520, 19468, 5263, 14430, 10489, 16788, 12813, 5276, 9047, 12793, 5300, 14618, 4445, 229, 2726, 7221, 16742, 2994, 14581, 9786, 12778, 14558, 14720, 18302, 14740, 14537, 7226, 11119, 9791, 3104, 18940, 18984, 18983, 5165, 5532, 1375, 3129, 12896, 8493, 18662, 9688, 19674, 18520, 16873, 11045, 14235, 304, 5127, 11027, 3016, 3017, 16864, 18705, 10421, 3124, 225, 11354, 8330, 9093, 5239, 14382, 18176, 5472, 3008, 14918, 18154, 14366, 2885, 14342, 9924, 9718, 18478, 1680, 18158, 4956, 20501, 13513, 13154, 13347, 13560, 20308, 10809, 6014, 19321, 1509, 20248, 13085, 17086, 3074, 1554, 12320, 18859, 17518, 13155, 10269, 17519, 18828, 13309, 10706, 16031, 3057, 9402, 4310, 13542, 10230, 7095, 8116, 8848, 19963, 13169, 20482, 2588, 10746, 10704, 20468, 13528, 17375, 13468, 7077, 8790, 8150, 12135, 5987, 359, 16205, 12117, 1540, 326, 13135, 13136, 360, 17372, 8135, 16223, 4669, 13523, 10787, 13405, 8763, 3467, 13520, 15925, 18840, 9369, 3154, 12087, 13514, 10293, 4955, 8824, 10292, 13406, 13604, 13580, 8854, 16115, 5941, 4895, 10849, 20022, 1487, 15555, 9498, 2757, 11926, 13221, 17268, 10865, 10691, 18867, 6565, 19997, 20579, 20481, 9524, 9532, 8871, 13202, 13184, 3082, 13201, 13756, 11888, 10252, 2143, 16078, 13681, 3081, 10304, 13266, 8739, 2506, 19741, 13060, 15645, 5931, 20537, 10124, 334, 13638, 10268, 9284, 4700, 17309, 264, 10848, 2587, 2511], [8329, 8855, 20157, 8831, 10510, 7640, 7545, 8852, 10436, 7644, 292, 2200, 7598, 8468, 19497, 7597, 20159, 9052, 20154, 6906, 2044, 8467, 11085, 10673, 2373, 9077, 9200, 7864, 10654, 8353, 7622, 2612, 19964, 11109, 2789, 2556, 6882, 2392, 19887, 8399, 8826, 2256, 7549, 10464, 2728, 9235, 19886, 2344, 7122, 8313, 10102, 2130, 7447, 10047, 10941, 10127, 2537, 8240, 7312, 7399, 2659, 2554, 10553, 7783, 7727, 7040, 2536, 9433, 10551, 2432, 2475, 2431, 7313, 10816, 7289, 9405, 9602, 2798, 10924, 7000, 2457, 10098, 7018, 10103, 8688, 8689, 8665, 8690, 9537, 2538, 10905, 9490, 7755, 10082, 10570, 8057, 2296, 8949, 9508, 8643, 201, 10068, 2848, 2239, 19532, 10434, 10023, 20015, 7676, 2594, 2118, 7674, 8784, 2409, 8496, 9692, 2278, 6943, 20013, 7385, 7852, 10528, 7528, 11066, 7530, 19498, 7662, 19992, 9717, 7531, 8808, 10431, 10650, 8744, 2322, 7270, 19659, 7703, 7702, 2828, 7701, 7700, 8571, 2574, 7830, 6962, 11003, 11023, 2573, 7057, 9004, 2827, 2805, 10793, 6958, 2807, 19871, 7683, 7682, 2160, 9140, 7897, 18415, 20161, 5997, 13109, 18715, 6016, 6020, 13045, 19246, 6033, 8375, 13005, 13000, 12983, 12982, 16559, 18692, 4467, 958, 16731, 12958, 6097, 6098, 16754, 3542, 1634, 6114, 5196, 16829, 16851, 12978, 18661, 20506, 16397, 371, 13632, 13608, 18818, 19174, 18817, 1514, 4707, 19195, 13474, 16209, 5866, 1534, 16398, 13451, 20483, 16269, 4653, 13433, 37, 18757, 5885, 16333, 76, 1565, 19223, 1029, 355, 18775, 372, 4398, 12899, 4225, 6263, 6264, 12526, 12522, 844, 12503, 4207, 4206, 20556, 12498, 6288, 6291, 17271, 1707, 17365, 12444, 17366, 6310, 12419, 17367, 4187, 12394, 3596, 20560, 4168, 17410, 4153, 12462, 6116, 12555, 17246, 922, 16900, 12879, 4377, 16923, 12848, 4361, 4360, 4325, 6173, 4306, 4305, 17088, 17248, 18617, 19269, 19271, 12734, 12682, 12678, 863, 17214, 4248, 17229, 19289, 19290, 12599, 12595, 4284, 19313, 13655, 19155, 14605, 14603, 5367, 14583, 14578, 15205, 14557, 15206, 5076, 408, 18924, 14513, 14512, 5346, 15250, 1341, 1346, 14460, 14436, 14435, 5452, 59, 14404, 60, 15286, 14388, 20431, 15294, 14485, 14369, 3287, 15135, 5199, 14997, 15004, 14958, 15005, 14954, 5173, 5222, 15030, 14900, 5162, 5157, 5243, 15136, 15055, 14843, 14842, 15069, 14821, 15090, 14800, 14798, 14776, 14758, 19002, 14745, 5304, 18943, 18986, 16037, 18905, 1369, 14050, 14045, 14024, 4862, 19115, 13983, 4861, 13953, 13949, 13929, 13927, 15712, 5682, 14053, 20343, 19138, 1128, 4811, 20470, 15835, 15836, 15856, 15877, 15928, 18838, 4732, 13684, 4731, 15713, 14328, 14075, 15677, 15406, 15407, 15426, 14290, 15427, 14284, 18886, 5534, 15444, 18885, 19076, 19077, 15446, 19097, 3368, 14243, 3245, 1184, 1388, 391, 14199, 15531, 4911, 14179, 5589, 15613, 18864, 388, 14264, 12364, 20521, 4152, 11931, 11930, 6561, 6563, 20219, 11884, 1895, 1896, 6592, 317, 1880, 11861, 17908, 17910, 6611, 11815, 11811, 17911, 17928, 3919, 17929, 11792, 11838, 11791, 11948, 19369, 12109, 1838, 12093, 12092, 3062, 4022, 12044, 20581, 4016, 12026, 3974, 12025, 1861, 11999, 1864, 17755, 19363, 3999, 11985, 17771, 17790, 6540, 17731, 17951, 1916, 1917, 6772, 20174, 11460, 11441, 11440, 11439, 1986, 3797, 18462, 11357, 6761, 11309, 3769, 11250, 18259, 11226, 600, 18437, 11201, 6860, 11162, 20628, 18216, 18179, 11505, 11507, 17975, 11742, 11741, 686, 11714, 11705, 1937, 1938, 11646, 11645, 20193, 11622, 11620, 18035, 18036, 3860, 19431, 11596, 11574, 6730, 1962, 18070, 643, 19346, 17636, 14980, 12235, 12215, 17453, 12310, 12214, 4057, 12290, 3078, 12284, 12264, 525, 12262, 12129, 19329, 6363, 18543, 6359, 12128, 4148, 1766, 12191, 12240, 1744, 12283, 17452, 17635, 12192], [9548, 3872, 3841, 15486, 9528, 9527, 1186, 837, 3873, 3874, 17542, 15380, 15460, 8117, 4973, 3842, 15420, 8483, 839, 8484, 17339, 658, 15440, 9549, 17510, 18034, 9573, 17514, 8846, 9574, 15400, 15382, 7748, 4927, 15552, 9509, 18025, 9424, 2476, 17311, 15697, 3892, 3893, 15702, 17310, 9425, 20552, 3611, 9408, 17554, 147, 17581, 711, 15704, 17945, 712, 8537, 17318, 8115, 15668, 18878, 18030, 15338, 7781, 8508, 4907, 19738, 8512, 9447, 1150, 15592, 15636, 3389, 15639, 15643, 15655, 15657, 7799, 15665, 15667, 18028, 2452, 20527, 2450, 8783, 8412, 15091, 828, 8414, 7675, 15107, 8415, 9682, 2862, 15114, 18234, 3594, 4184, 2411, 18199, 7685, 3690, 8436, 15149, 8781, 18274, 3763, 601, 18410, 18387, 2404, 585, 18337, 18432, 15007, 7656, 7657, 8393, 15018, 9714, 15023, 17424, 3744, 18317, 20562, 4165, 5154, 4146, 8800, 15151, 5091, 18193, 8335, 18920, 9624, 18177, 15262, 7720, 8456, 8457, 15264, 18168, 3810, 18140, 5042, 15285, 17361, 18474, 15287, 8314, 9396, 15313, 9595, 7733, 8327, 4130, 8132, 17447, 5088, 3331, 1250, 5083, 8818, 3798, 15200, 8819, 9652, 8821, 3799, 815, 1245, 15224, 17445, 2426, 15240, 3605, 8823, 18181, 5052, 18921, 18475, 857, 15706, 3523, 17602, 17603, 16593, 17604, 16616, 9099, 503, 16617, 16571, 16619, 8937, 9091, 17629, 4006, 4484, 8707, 4481, 2792, 485, 17763, 3991, 3989, 16570, 16392, 20489, 8623, 3653, 16420, 16454, 1009, 16489, 16512, 16529, 16533, 16534, 9132, 16551, 16553, 16554, 17803, 20507, 18541, 7971, 480, 17746, 16683, 8940, 18516, 8951, 16846, 4036, 17675, 904, 3559, 8030, 16980, 18654, 9019, 16894, 9018, 17653, 17652, 3627, 4344, 4375, 4374, 16919, 17651, 16959, 4035, 8918, 17679, 9043, 2788, 7999, 8000, 9069, 2787, 749, 16708, 4320, 8007, 9054, 20536, 9053, 4446, 4443, 16750, 8211, 4436, 20535, 18638, 16823, 8022, 17703, 3914, 8916, 9159, 8582, 4770, 8736, 444, 9320, 15975, 18833, 16013, 18832, 2822, 16033, 8588, 8589, 8258, 8590, 3945, 16056, 3949, 1078, 9270, 8877, 17244, 3932, 7854, 17937, 17267, 2670, 15719, 15726, 4847, 15727, 15733, 15763, 4824, 9366, 17582, 8738, 1125, 15784, 15785, 15786, 17918, 9344, 15804, 7853, 4724, 2770, 17881, 20479, 3971, 4079, 20543, 9181, 18770, 16281, 2604, 2804, 16328, 2801, 3972, 1045, 4633, 19811, 17136, 7937, 4630, 16351, 7941, 16366, 3656, 8617, 3484, 3970, 8609, 3957, 8154, 7891, 7892, 16080, 8185, 17842, 18542, 7898, 19772, 16113, 4702, 18808, 17173, 17832, 2529, 16147, 4684, 17170, 18786, 17830, 8896, 16079, 14896, 10369, 12804, 12808, 6157, 12825, 12826, 12833, 7242, 1648, 12852, 12869, 2920, 12797, 12887, 6132, 6130, 2217, 255, 7263, 7264, 2919, 6112, 6111, 12944, 10391, 12891, 12796, 10454, 259, 10549, 10547, 20107, 10544, 7183, 7184, 12539, 7186, 6244, 6234, 10505, 10500, 7205, 12628, 12646, 12649, 19284, 12699, 12704, 10482, 10474, 12766, 12788, 12790, 12791, 1629, 6088, 20284, 12967, 13223, 13330, 19211, 10228, 19210, 10219, 1547, 5884, 7359, 1546, 13424, 7362, 7363, 2272, 7368, 19197, 13466, 73, 13493, 10171, 5840, 19179, 10141, 370, 10128, 3163, 3094, 3161, 10263, 12970, 7285, 12975, 7287, 6075, 12976, 10351, 10349, 6067, 6064, 2237, 12991, 12998, 7307, 6030, 13050, 13059, 10291, 10290, 1589, 13123, 1582, 5973, 13173, 10266, 19230, 7163, 12437, 12409, 11059, 6748, 11056, 11522, 19443, 6745, 11532, 11533, 1961, 11037, 11599, 11608, 6955, 11612, 11613, 11002, 11660, 11682, 2075, 11702, 2081, 6659, 6658, 6977, 10955, 11060, 11777, 11506, 6922, 19489, 19490, 19488, 6876, 6875, 6874, 2041, 2040, 11181, 6895, 11241, 11242, 11105, 11103, 11243, 11268, 19474, 6823, 2004, 11318, 11334, 19466, 11353, 19463, 11387, 111, 5786, 11782, 6992, 6498, 10785, 2119, 2124, 19563, 1813, 10735, 2140, 10712, 12233, 6399, 12257, 7112, 1764, 7117, 7118, 12282, 19322, 10655, 1742, 7139, 2157, 7145, 6329, 12404, 2116, 11784, 19356, 1858, 6993, 6994, 11807, 11809, 6623, 10918, 10915, 6605, 6604, 19386, 19385, 10896, 11879, 11890, 11907, 11922, 1877, 11961, 10832, 10831, 272, 6528, 271, 10815, 6516, 19359, 1492, 13013, 14146, 2900, 5327, 14505, 14689, 7456, 2901, 14690, 14700, 19654, 13825, 1435, 70, 13822, 20078, 9968, 14714, 7501, 14217, 14074, 14736, 7426, 14739, 19655, 14482, 19058, 1467, 7536, 7435, 14511, 5402, 1363, 10058, 7444, 10059, 13900, 2362, 20344, 5582, 5491, 3238, 14194, 5724, 2882, 20390, 14341, 1333, 9989, 2366, 14357, 7590, 1466, 13847, 7539, 7497, 14654, 14555, 14772, 5568, 14894, 13746, 14973, 14955, 14299, 1349, 14381, 14233, 3262, 11155, 14458, 7510, 7478, 14949, 9741, 14453, 9944, 14429, 2315, 7519, 1307, 5216, 14265, 19071, 19052, 14307, 14126, 13698, 10094, 13800, 7613, 13701, 13799, 7521, 14796, 13798, 7532, 13724, 14173, 20354, 10099, 19091, 7520, 13770, 2889, 14125, 14157, 13769, 14814, 20357], [11949, 8619, 8640, 9905, 2341, 19364, 15289, 19057, 733, 17810, 11965, 11968, 11967, 8641, 18504, 15315, 17751, 1488, 19677, 19569, 15403, 14310, 12216, 12236, 18546, 792, 12263, 803, 17517, 1767, 9926, 15422, 9930, 12287, 10672, 8770, 14287, 2146, 14282, 12335, 19330, 12193, 14312, 10736, 12023, 14345, 12043, 15343, 2117, 8683, 18521, 12067, 15361, 12090, 17748, 18525, 12108, 10757, 10756, 12126, 2453, 17631, 19344, 15385, 1809, 12166, 10852, 2128, 199, 10867, 14840, 18196, 15087, 18194, 14839, 14818, 11356, 8441, 11434, 11474, 15108, 11063, 15111, 19000, 8458, 8459, 633, 18155, 18942, 18941, 11531, 18212, 18118, 2388, 18235, 14999, 18390, 14976, 14950, 8394, 8395, 18434, 18436, 9743, 18305, 18303, 2023, 14933, 18282, 15025, 18954, 14901, 2010, 8417, 14880, 18237, 15047, 19720, 15133, 19884, 2673, 15246, 9633, 8572, 9632, 10921, 1746, 11813, 11834, 11835, 14467, 17904, 2429, 17902, 8591, 19391, 17885, 11858, 17865, 10888, 732, 10939, 18091, 11787, 15226, 11594, 15153, 18049, 11018, 15174, 1325, 9819, 19018, 11662, 2372, 11713, 15202, 8516, 18000, 409, 2690, 19407, 10958, 17972, 697, 17950, 9860, 8785, 2620, 8786, 13061, 13086, 9114, 16575, 13088, 13106, 15769, 13124, 13125, 16557, 13140, 10271, 13829, 15787, 13175, 9348, 9139, 1471, 16425, 16424, 10247, 10246, 13205, 995, 16394, 19135, 1130, 14978, 1438, 12956, 10045, 16728, 9392, 15708, 16709, 15709, 13925, 10066, 15729, 16688, 9074, 13879, 18693, 2492, 972, 16653, 9370, 15750, 1617, 13028, 9095, 13224, 2257, 2259, 13471, 10178, 16145, 15950, 16125, 15973, 13515, 18812, 2279, 13727, 13531, 16099, 16082, 15995, 1512, 19175, 13585, 13587, 10149, 13726, 13635, 447, 16060, 16170, 18795, 9198, 16187, 16375, 13312, 15805, 9161, 1472, 13368, 13408, 15855, 15873, 13773, 16303, 10372, 15926, 19200, 13428, 9321, 16268, 13447, 18776, 16248, 16230, 1533, 16206, 18837, 16282, 1631, 19743, 938, 10550, 841, 14219, 15488, 14218, 17315, 17313, 12551, 10531, 1682, 18594, 12576, 17249, 9972, 1681, 12597, 17231, 15537, 2319, 19288, 15553, 860, 9485, 9535, 12501, 1704, 17342, 10651, 10635, 10610, 10609, 19310, 8802, 19309, 12385, 12390, 19308, 14259, 19817, 14237, 19307, 12417, 12436, 10569, 18883, 17362, 12479, 19591, 19154, 10555, 2619, 12411, 10652, 17187, 17154, 16982, 15662, 18642, 16945, 19268, 14129, 9430, 12853, 919, 12876, 9429, 14104, 10415, 12897, 9023, 16870, 12912, 19095, 2218, 12937, 16799, 18862, 16775, 14131, 1649, 14132, 1650, 12679, 8898, 8900, 15577, 17142, 17139, 12732, 505, 875, 15578, 2472, 2608, 12763, 2198, 17104, 15580, 14176, 2589, 10462, 17063, 14153, 14152, 9993, 17017, 9450, 14977, 11065, 20046, 5680, 4378, 6701, 3453, 20327, 7291, 132, 20342, 20043, 5495, 5679, 4131, 5494, 6113, 7827, 5493, 6925, 20155, 3343, 19965, 6902, 5863, 2768, 4617, 8106, 6094, 5381, 4807, 20626, 6073, 6289, 7546, 6798, 7340, 20171, 4448, 7547, 7404, 5219, 8054, 8055, 3933, 7096, 7978, 19927, 7224, 8001, 8291, 6449, 5957, 20575, 3543, 8273, 19989, 7619, 20110, 6590, 5301, 7169, 6358, 7147, 7310, 4399, 20109, 6134, 5198, 4038, 20381, 4400, 5439, 5450, 7870, 6402, 166, 4203, 5302, 5749, 5711, 7850, 4419, 5407, 6435, 4595, 3076, 2825, 5888, 20221, 5197, 6337, 7638, 8263, 5408, 8215, 6729, 5473, 20602, 20010, 5708, 2946, 4268, 6158, 8216, 3898, 7959, 8296, 5380, 5329, 6260, 4112, 8152, 5572, 5571, 6997, 6070, 4113, 5138, 3242, 6677, 5552, 3845, 4465, 7354, 4636, 5634, 7752, 5926, 4704, 6655, 3954, 5612, 6238, 8370, 20135, 20066, 4098, 7730, 8029, 5822, 5821, 3059, 7020, 5174, 7267, 4282, 4096, 6015, 7724, 6996, 5366, 6480, 20085, 4934, 20268, 5531, 2921, 5365, 20398, 4509, 8312, 7525, 5119, 5118, 2922, 8170, 4508, 4858, 6981, 7246, 4300]]\n"
          ],
          "name": "stdout"
        }
      ]
    },
    {
      "metadata": {
        "id": "d3kRkS6dH4ug",
        "colab_type": "code",
        "colab": {}
      },
      "cell_type": "code",
      "source": [
        "#获得某主题在Cluster中的占比\n",
        "\n",
        "def get_cluster_topic(cluster_docs_index):\n",
        "  for doc_idx in cluster_docs_index:\n",
        "    topic_idx = get_topic(doc_idx)\n",
        "    \n",
        "#doc_topic是一个二维数组，值为某主题在某News的占比  但是News的数量太大了 所以需要先聚类\n",
        "#plot_topic(corpus_lda[1:50])\n",
        "\n",
        "for label in range(cluster_num):\n",
        "  get_cluster_topic(label2index[label])"
      ],
      "execution_count": 0,
      "outputs": []
    },
    {
      "metadata": {
        "id": "om8Tpa7HP9t2",
        "colab_type": "text"
      },
      "cell_type": "markdown",
      "source": [
        "# 年度新闻主题统计"
      ]
    },
    {
      "metadata": {
        "id": "drRXjqf3Zasf",
        "colab_type": "code",
        "colab": {}
      },
      "cell_type": "code",
      "source": [
        "news_data_sorted_by_date = data.sort_values('date')\n",
        "News2016 = news_data_sorted_by_date[news_data_sorted_by_date['date'].str.contains(r'2016')]\n",
        "News2017 = news_data_sorted_by_date[news_data_sorted_by_date['date'].str.contains(r'2017')]\n",
        "News2018 = news_data_sorted_by_date[news_data_sorted_by_date['date'].str.contains(r'2018')]\n",
        "#news_data_sorted_by_date['date'][0].split('-')[0]\n",
        "News2016.to_csv('News2016')\n",
        "News2017.to_csv('News2017')\n",
        "News2018.to_csv('News2018')"
      ],
      "execution_count": 0,
      "outputs": []
    },
    {
      "metadata": {
        "id": "7bfyIT5lQNxH",
        "colab_type": "code",
        "colab": {
          "base_uri": "https://localhost:8080/",
          "height": 68
        },
        "outputId": "456fb873-9211-443a-f9ee-686e00d4b220"
      },
      "cell_type": "code",
      "source": [
        "print(len(News2016))\n",
        "print(len(News2017))\n",
        "print(len(News2018))"
      ],
      "execution_count": 284,
      "outputs": [
        {
          "output_type": "stream",
          "text": [
            "6846\n",
            "7862\n",
            "5923\n"
          ],
          "name": "stdout"
        }
      ]
    },
    {
      "metadata": {
        "id": "oePM2o5zwM4J",
        "colab_type": "code",
        "colab": {}
      },
      "cell_type": "code",
      "source": [
        "def show_keywords_graph(docs):\n",
        "  year_segment = []\n",
        "  for doc in docs:\n",
        "    doc_tokens =  segment_doc(doc) \n",
        "    year_segment = year_segment + doc_tokens\n",
        "  show_words_cloud(year_segment)\n",
        "  \n",
        "show_keywords_graph(News2016['content'])\n",
        "show_keywords_graph(News2017['content'])\n",
        "show_keywords_graph(News2017['content'])"
      ],
      "execution_count": 0,
      "outputs": []
    },
    {
      "metadata": {
        "id": "DtB99jcD6IgY",
        "colab_type": "code",
        "colab": {}
      },
      "cell_type": "code",
      "source": [
        "#获得每一年中的主题：\n",
        "index2016 = News2016.index.tolist()\n",
        "index2017 = News2017.index.tolist()\n",
        "index2018 = News2018.index.tolist()"
      ],
      "execution_count": 0,
      "outputs": []
    },
    {
      "metadata": {
        "id": "IkPTAltu62mK",
        "colab_type": "code",
        "colab": {}
      },
      "cell_type": "code",
      "source": [
        "#获得某主题在每年中的占比  主题20\n",
        "\n",
        "topicnum = {}\n",
        "def get_year_topic(docs_index):\n",
        "  for doc_idx in docs_index:\n",
        "    topic_idx = get_topic(doc_idx)\n",
        "    for idx in topic_idx:\n",
        "      if int(idx) in topicnum:\n",
        "        topicnum[int(idx)]+=1\n",
        "      else:\n",
        "        topicnum[int(idx)] = 1\n",
        "#get_year_topic(index2016)"
      ],
      "execution_count": 0,
      "outputs": []
    },
    {
      "metadata": {
        "id": "DE2pjLG6ehAt",
        "colab_type": "code",
        "colab": {
          "base_uri": "https://localhost:8080/",
          "height": 68
        },
        "outputId": "95bf4d85-d5d7-4011-e5c0-4e9057d89244"
      },
      "cell_type": "code",
      "source": [
        "get_year_topic(index2016)\n",
        "print(topicnum) \n",
        "get_year_topic(index2017)\n",
        "print(topicnum) \n",
        "get_year_topic(index2018)\n",
        "print(topicnum) "
      ],
      "execution_count": 322,
      "outputs": [
        {
          "output_type": "stream",
          "text": [
            "{1: 27477, 17: 27477, 6: 27477, 0: 27477, 2: 27477}\n",
            "{1: 35339, 17: 35339, 6: 35339, 0: 35339, 2: 35339}\n",
            "{1: 41262, 17: 41262, 6: 41262, 0: 41262, 2: 41262}\n"
          ],
          "name": "stdout"
        }
      ]
    },
    {
      "metadata": {
        "id": "zD011sQwh5Yc",
        "colab_type": "code",
        "colab": {
          "base_uri": "https://localhost:8080/",
          "height": 263
        },
        "outputId": "957d41b6-3fd4-44af-ca4d-2fa55ce98aa9"
      },
      "cell_type": "code",
      "source": [
        "\n",
        "import numpy as np  \n",
        "import matplotlib.mlab as mlab  \n",
        "import matplotlib.pyplot as plt  \n",
        "labels=['cluster1','cluster2','cluster3','cluster4','cluster5','cluster6','cluster7','cluster8','cluster9','cluster10','cluster11','cluster12','cluster13','cluster14','cluster15','cluster16','cluster17','cluster18','cluster19','cluster20']\n",
        "X=[654,1106,1140,966,846,1717,347,492,951,978,1762,1027,471,939,1225,676,1289,1612,1074,1359]  \n",
        " \n",
        "fig = plt.figure()\n",
        "plt.pie(X,labels=labels,autopct='%1.2f%%') \n",
        "plt.title(\"Cluster Result\")\n",
        "plt.show()  "
      ],
      "execution_count": 321,
      "outputs": [
        {
          "output_type": "display_data",
          "data": {
            "image/png": "[encoded data removed]",
            "text/plain": [
              "<Figure size 432x288 with 1 Axes>"
            ]
          },
          "metadata": {
            "tags": []
          }
        }
      ]
    },
    {
      "metadata": {
        "id": "NMVVQ-XnvXpF",
        "colab_type": "code",
        "colab": {
          "base_uri": "https://localhost:8080/",
          "height": 236
        },
        "outputId": "46cc66a9-229e-4dae-d8d1-ab43c1ea58c0"
      },
      "cell_type": "code",
      "source": [
        "from sklearn.manifold import TSNE\n",
        " \n",
        "tsne=TSNE()\n",
        "tsne.fit_transform(data_zs)  #进行数据降维,降成两维\n",
        "\n",
        "tsne=pd.DataFrame(tsne.embedding_,index=data_zs.index) #转换数据格式\n",
        "import matplotlib.pyplot as plt \n",
        "d=tsne[r[u'聚类类别']==0]\n",
        "plt.plot(d[0],d[1],'r.')\n",
        "d=tsne[r[u'聚类类别']==1]\n",
        "plt.plot(d[0],d[1],'go')\n",
        "d=tsne[r[u'聚类类别']==2]\n",
        "plt.plot(d[0],d[1],'b*')\n",
        "plt.show()"
      ],
      "execution_count": 323,
      "outputs": [
        {
          "output_type": "error",
          "ename": "NameError",
          "evalue": "ignored",
          "traceback": [
            "\u001b[0;31m---------------------------------------------------------------------------\u001b[0m",
            "\u001b[0;31mNameError\u001b[0m                                 Traceback (most recent call last)",
            "\u001b[0;32m<ipython-input-323-4886913619bf>\u001b[0m in \u001b[0;36m<module>\u001b[0;34m()\u001b[0m\n\u001b[1;32m      2\u001b[0m \u001b[0;34m\u001b[0m\u001b[0m\n\u001b[1;32m      3\u001b[0m \u001b[0mtsne\u001b[0m\u001b[0;34m=\u001b[0m\u001b[0mTSNE\u001b[0m\u001b[0;34m(\u001b[0m\u001b[0;34m)\u001b[0m\u001b[0;34m\u001b[0m\u001b[0;34m\u001b[0m\u001b[0m\n\u001b[0;32m----> 4\u001b[0;31m \u001b[0mtsne\u001b[0m\u001b[0;34m.\u001b[0m\u001b[0mfit_transform\u001b[0m\u001b[0;34m(\u001b[0m\u001b[0mdata_zs\u001b[0m\u001b[0;34m)\u001b[0m  \u001b[0;31m#进行数据降维,降成两维\u001b[0m\u001b[0;34m\u001b[0m\u001b[0;34m\u001b[0m\u001b[0m\n\u001b[0m\u001b[1;32m      5\u001b[0m \u001b[0;34m\u001b[0m\u001b[0m\n\u001b[1;32m      6\u001b[0m \u001b[0mtsne\u001b[0m\u001b[0;34m=\u001b[0m\u001b[0mpd\u001b[0m\u001b[0;34m.\u001b[0m\u001b[0mDataFrame\u001b[0m\u001b[0;34m(\u001b[0m\u001b[0mtsne\u001b[0m\u001b[0;34m.\u001b[0m\u001b[0membedding_\u001b[0m\u001b[0;34m,\u001b[0m\u001b[0mindex\u001b[0m\u001b[0;34m=\u001b[0m\u001b[0mdata_zs\u001b[0m\u001b[0;34m.\u001b[0m\u001b[0mindex\u001b[0m\u001b[0;34m)\u001b[0m \u001b[0;31m#转换数据格式\u001b[0m\u001b[0;34m\u001b[0m\u001b[0;34m\u001b[0m\u001b[0m\n",
            "\u001b[0;31mNameError\u001b[0m: name 'data_zs' is not defined"
          ]
        }
      ]
    },
    {
      "metadata": {
        "id": "022B18rAYlPK",
        "colab_type": "text"
      },
      "cell_type": "markdown",
      "source": [
        "# 命名实体识别"
      ]
    },
    {
      "metadata": {
        "id": "Eaba0kW1Yp57",
        "colab_type": "code",
        "outputId": "58a4691d-7881-4303-fef1-1839c3bc85e7",
        "colab": {
          "base_uri": "https://localhost:8080/",
          "height": 154
        }
      },
      "cell_type": "code",
      "source": [
        "import tensorflow as tf\n",
        "from tensorflow.python.ops import lookup_ops\n",
        "import numpy as np\n",
        "import collections\n",
        "import os\n",
        "\n",
        "\n",
        "\n",
        "def build_word_index():\n",
        "  if not os.path.exists(word_embedding_file):\n",
        "    print 'word embedding file does not exist'\n",
        "    return \n",
        "  \n",
        "  print(\"Word Embedding....\")\n",
        "  \n",
        "  if not os.path.exists(src_vocab_file):\n",
        "    with open(src_vocab_file,'w') as source:\n",
        "      f = open(word_embedding_file,'r')\n",
        "      for line in f:\n",
        "        values = line.split()\n",
        "        word = values[0] #取词\n",
        "        \n",
        "        "
      ],
      "execution_count": 0,
      "outputs": [
        {
          "output_type": "error",
          "ename": "SyntaxError",
          "evalue": "ignored",
          "traceback": [
            "\u001b[0;36m  File \u001b[0;32m\"<ipython-input-29-cc6bfc8a3842>\"\u001b[0;36m, line \u001b[0;32m10\u001b[0m\n\u001b[0;31m    print 'word embedding file does not exist'\u001b[0m\n\u001b[0m                                             ^\u001b[0m\n\u001b[0;31mSyntaxError\u001b[0m\u001b[0;31m:\u001b[0m Missing parentheses in call to 'print'. Did you mean print('word embedding file does not exist')?\n"
          ]
        }
      ]
    }
  ]
}